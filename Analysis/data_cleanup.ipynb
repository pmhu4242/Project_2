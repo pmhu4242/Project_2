{
 "metadata": {
  "language_info": {
   "codemirror_mode": {
    "name": "ipython",
    "version": 3
   },
   "file_extension": ".py",
   "mimetype": "text/x-python",
   "name": "python",
   "nbconvert_exporter": "python",
   "pygments_lexer": "ipython3",
   "version": "3.8.3-final"
  },
  "orig_nbformat": 2,
  "kernelspec": {
   "name": "python3",
   "display_name": "Python 3",
   "language": "python"
  }
 },
 "nbformat": 4,
 "nbformat_minor": 2,
 "cells": [
  {
   "cell_type": "code",
   "execution_count": 2,
   "metadata": {},
   "outputs": [],
   "source": [
    "import pandas as pd\n",
    "import os \n",
    "import csv  "
   ]
  },
  {
   "cell_type": "code",
   "execution_count": 30,
   "metadata": {},
   "outputs": [
    {
     "output_type": "execute_result",
     "data": {
      "text/plain": [
       "<pandas.core.groupby.generic.DataFrameGroupBy object at 0x000002A8513932E0>"
      ]
     },
     "metadata": {},
     "execution_count": 30
    }
   ],
   "source": []
  },
  {
   "cell_type": "code",
   "execution_count": 17,
   "metadata": {},
   "outputs": [
    {
     "output_type": "error",
     "ename": "SyntaxError",
     "evalue": "invalid syntax (<ipython-input-17-3b478a6d42ca>, line 1)",
     "traceback": [
      "\u001b[1;36m  File \u001b[1;32m\"<ipython-input-17-3b478a6d42ca>\"\u001b[1;36m, line \u001b[1;32m1\u001b[0m\n\u001b[1;33m    major_airlines = emp_total.drop(axis=1, columns=22:62)\u001b[0m\n\u001b[1;37m                                                      ^\u001b[0m\n\u001b[1;31mSyntaxError\u001b[0m\u001b[1;31m:\u001b[0m invalid syntax\n"
     ]
    }
   ],
   "source": []
  },
  {
   "cell_type": "code",
   "execution_count": 3,
   "metadata": {},
   "outputs": [
    {
     "output_type": "execute_result",
     "data": {
      "text/plain": [
       "     Month  Year Full-time Part-time Grand Total\n",
       "0        1  1990    68,137     9,039      77,176\n",
       "1        2  1990    68,725     9,273      77,998\n",
       "2        3  1990    69,509     9,376      78,885\n",
       "3        4  1990    69,713     9,326      79,039\n",
       "4        5  1990    70,376     9,309      79,685\n",
       "..     ...   ...       ...       ...         ...\n",
       "366      7  2020    95,792    11,236     107,028\n",
       "367      8  2020    95,312    11,232     106,544\n",
       "368      9  2020    95,197    10,973     106,170\n",
       "369     10  2020    79,281    11,565      90,846\n",
       "370     11  2020    78,761    11,613      90,374\n",
       "\n",
       "[371 rows x 5 columns]"
      ],
      "text/html": "<div>\n<style scoped>\n    .dataframe tbody tr th:only-of-type {\n        vertical-align: middle;\n    }\n\n    .dataframe tbody tr th {\n        vertical-align: top;\n    }\n\n    .dataframe thead th {\n        text-align: right;\n    }\n</style>\n<table border=\"1\" class=\"dataframe\">\n  <thead>\n    <tr style=\"text-align: right;\">\n      <th></th>\n      <th>Month</th>\n      <th>Year</th>\n      <th>Full-time</th>\n      <th>Part-time</th>\n      <th>Grand Total</th>\n    </tr>\n  </thead>\n  <tbody>\n    <tr>\n      <th>0</th>\n      <td>1</td>\n      <td>1990</td>\n      <td>68,137</td>\n      <td>9,039</td>\n      <td>77,176</td>\n    </tr>\n    <tr>\n      <th>1</th>\n      <td>2</td>\n      <td>1990</td>\n      <td>68,725</td>\n      <td>9,273</td>\n      <td>77,998</td>\n    </tr>\n    <tr>\n      <th>2</th>\n      <td>3</td>\n      <td>1990</td>\n      <td>69,509</td>\n      <td>9,376</td>\n      <td>78,885</td>\n    </tr>\n    <tr>\n      <th>3</th>\n      <td>4</td>\n      <td>1990</td>\n      <td>69,713</td>\n      <td>9,326</td>\n      <td>79,039</td>\n    </tr>\n    <tr>\n      <th>4</th>\n      <td>5</td>\n      <td>1990</td>\n      <td>70,376</td>\n      <td>9,309</td>\n      <td>79,685</td>\n    </tr>\n    <tr>\n      <th>...</th>\n      <td>...</td>\n      <td>...</td>\n      <td>...</td>\n      <td>...</td>\n      <td>...</td>\n    </tr>\n    <tr>\n      <th>366</th>\n      <td>7</td>\n      <td>2020</td>\n      <td>95,792</td>\n      <td>11,236</td>\n      <td>107,028</td>\n    </tr>\n    <tr>\n      <th>367</th>\n      <td>8</td>\n      <td>2020</td>\n      <td>95,312</td>\n      <td>11,232</td>\n      <td>106,544</td>\n    </tr>\n    <tr>\n      <th>368</th>\n      <td>9</td>\n      <td>2020</td>\n      <td>95,197</td>\n      <td>10,973</td>\n      <td>106,170</td>\n    </tr>\n    <tr>\n      <th>369</th>\n      <td>10</td>\n      <td>2020</td>\n      <td>79,281</td>\n      <td>11,565</td>\n      <td>90,846</td>\n    </tr>\n    <tr>\n      <th>370</th>\n      <td>11</td>\n      <td>2020</td>\n      <td>78,761</td>\n      <td>11,613</td>\n      <td>90,374</td>\n    </tr>\n  </tbody>\n</table>\n<p>371 rows × 5 columns</p>\n</div>"
     },
     "metadata": {},
     "execution_count": 3
    }
   ],
   "source": [
    "american_emp = pd.read_csv(\"../Data/AirlineEmp/American.csv\", header=[1], delimiter=\",\")\n",
    "american_emp.set_index([\"Month\", \"Year\"])\n",
    "american_emp"
   ]
  },
  {
   "cell_type": "code",
   "execution_count": 4,
   "metadata": {},
   "outputs": [
    {
     "output_type": "execute_result",
     "data": {
      "text/plain": [
       "     Month  Year Full-time Part-time Grand Total\n",
       "0        1  1990    56,340     4,226      60,566\n",
       "1        2  1990    56,413     4,184      60,597\n",
       "2        3  1990    56,700     4,117      60,817\n",
       "3        4  1990    56,630     4,112      60,742\n",
       "4        5  1990    56,932     4,156      61,088\n",
       "..     ...   ...       ...       ...         ...\n",
       "366      7  2020    56,513     5,563      62,076\n",
       "367      8  2020    57,630     5,716      63,346\n",
       "368      9  2020    55,767     5,743      61,510\n",
       "369     10  2020    55,384     5,845      61,229\n",
       "370     11  2020    56,393     5,885      62,278\n",
       "\n",
       "[371 rows x 5 columns]"
      ],
      "text/html": "<div>\n<style scoped>\n    .dataframe tbody tr th:only-of-type {\n        vertical-align: middle;\n    }\n\n    .dataframe tbody tr th {\n        vertical-align: top;\n    }\n\n    .dataframe thead th {\n        text-align: right;\n    }\n</style>\n<table border=\"1\" class=\"dataframe\">\n  <thead>\n    <tr style=\"text-align: right;\">\n      <th></th>\n      <th>Month</th>\n      <th>Year</th>\n      <th>Full-time</th>\n      <th>Part-time</th>\n      <th>Grand Total</th>\n    </tr>\n  </thead>\n  <tbody>\n    <tr>\n      <th>0</th>\n      <td>1</td>\n      <td>1990</td>\n      <td>56,340</td>\n      <td>4,226</td>\n      <td>60,566</td>\n    </tr>\n    <tr>\n      <th>1</th>\n      <td>2</td>\n      <td>1990</td>\n      <td>56,413</td>\n      <td>4,184</td>\n      <td>60,597</td>\n    </tr>\n    <tr>\n      <th>2</th>\n      <td>3</td>\n      <td>1990</td>\n      <td>56,700</td>\n      <td>4,117</td>\n      <td>60,817</td>\n    </tr>\n    <tr>\n      <th>3</th>\n      <td>4</td>\n      <td>1990</td>\n      <td>56,630</td>\n      <td>4,112</td>\n      <td>60,742</td>\n    </tr>\n    <tr>\n      <th>4</th>\n      <td>5</td>\n      <td>1990</td>\n      <td>56,932</td>\n      <td>4,156</td>\n      <td>61,088</td>\n    </tr>\n    <tr>\n      <th>...</th>\n      <td>...</td>\n      <td>...</td>\n      <td>...</td>\n      <td>...</td>\n      <td>...</td>\n    </tr>\n    <tr>\n      <th>366</th>\n      <td>7</td>\n      <td>2020</td>\n      <td>56,513</td>\n      <td>5,563</td>\n      <td>62,076</td>\n    </tr>\n    <tr>\n      <th>367</th>\n      <td>8</td>\n      <td>2020</td>\n      <td>57,630</td>\n      <td>5,716</td>\n      <td>63,346</td>\n    </tr>\n    <tr>\n      <th>368</th>\n      <td>9</td>\n      <td>2020</td>\n      <td>55,767</td>\n      <td>5,743</td>\n      <td>61,510</td>\n    </tr>\n    <tr>\n      <th>369</th>\n      <td>10</td>\n      <td>2020</td>\n      <td>55,384</td>\n      <td>5,845</td>\n      <td>61,229</td>\n    </tr>\n    <tr>\n      <th>370</th>\n      <td>11</td>\n      <td>2020</td>\n      <td>56,393</td>\n      <td>5,885</td>\n      <td>62,278</td>\n    </tr>\n  </tbody>\n</table>\n<p>371 rows × 5 columns</p>\n</div>"
     },
     "metadata": {},
     "execution_count": 4
    }
   ],
   "source": [
    "delta_emp = pd.read_csv(\"../Data/AirlineEmp/delta.csv\", header=[1], delimiter=\",\")\n",
    "delta_emp.set_index([\"Month\", \"Year\"])\n",
    "delta_emp"
   ]
  },
  {
   "cell_type": "code",
   "execution_count": 5,
   "metadata": {},
   "outputs": [
    {
     "output_type": "execute_result",
     "data": {
      "text/plain": [
       "     Month  Year Full-time Part-time Grand Total\n",
       "0        2  2000       275       175         450\n",
       "1        3  2000       310       195         505\n",
       "2        4  2000       360       210         570\n",
       "3        5  2000       424       161         585\n",
       "4        6  2000       452       176         628\n",
       "..     ...   ...       ...       ...         ...\n",
       "245      7  2020    16,389     5,028      21,417\n",
       "246      8  2020    16,246     4,661      20,907\n",
       "247      9  2020    15,735     3,913      19,648\n",
       "248     10  2020    15,539     3,709      19,248\n",
       "249     11  2020    15,464     3,650      19,114\n",
       "\n",
       "[250 rows x 5 columns]"
      ],
      "text/html": "<div>\n<style scoped>\n    .dataframe tbody tr th:only-of-type {\n        vertical-align: middle;\n    }\n\n    .dataframe tbody tr th {\n        vertical-align: top;\n    }\n\n    .dataframe thead th {\n        text-align: right;\n    }\n</style>\n<table border=\"1\" class=\"dataframe\">\n  <thead>\n    <tr style=\"text-align: right;\">\n      <th></th>\n      <th>Month</th>\n      <th>Year</th>\n      <th>Full-time</th>\n      <th>Part-time</th>\n      <th>Grand Total</th>\n    </tr>\n  </thead>\n  <tbody>\n    <tr>\n      <th>0</th>\n      <td>2</td>\n      <td>2000</td>\n      <td>275</td>\n      <td>175</td>\n      <td>450</td>\n    </tr>\n    <tr>\n      <th>1</th>\n      <td>3</td>\n      <td>2000</td>\n      <td>310</td>\n      <td>195</td>\n      <td>505</td>\n    </tr>\n    <tr>\n      <th>2</th>\n      <td>4</td>\n      <td>2000</td>\n      <td>360</td>\n      <td>210</td>\n      <td>570</td>\n    </tr>\n    <tr>\n      <th>3</th>\n      <td>5</td>\n      <td>2000</td>\n      <td>424</td>\n      <td>161</td>\n      <td>585</td>\n    </tr>\n    <tr>\n      <th>4</th>\n      <td>6</td>\n      <td>2000</td>\n      <td>452</td>\n      <td>176</td>\n      <td>628</td>\n    </tr>\n    <tr>\n      <th>...</th>\n      <td>...</td>\n      <td>...</td>\n      <td>...</td>\n      <td>...</td>\n      <td>...</td>\n    </tr>\n    <tr>\n      <th>245</th>\n      <td>7</td>\n      <td>2020</td>\n      <td>16,389</td>\n      <td>5,028</td>\n      <td>21,417</td>\n    </tr>\n    <tr>\n      <th>246</th>\n      <td>8</td>\n      <td>2020</td>\n      <td>16,246</td>\n      <td>4,661</td>\n      <td>20,907</td>\n    </tr>\n    <tr>\n      <th>247</th>\n      <td>9</td>\n      <td>2020</td>\n      <td>15,735</td>\n      <td>3,913</td>\n      <td>19,648</td>\n    </tr>\n    <tr>\n      <th>248</th>\n      <td>10</td>\n      <td>2020</td>\n      <td>15,539</td>\n      <td>3,709</td>\n      <td>19,248</td>\n    </tr>\n    <tr>\n      <th>249</th>\n      <td>11</td>\n      <td>2020</td>\n      <td>15,464</td>\n      <td>3,650</td>\n      <td>19,114</td>\n    </tr>\n  </tbody>\n</table>\n<p>250 rows × 5 columns</p>\n</div>"
     },
     "metadata": {},
     "execution_count": 5
    }
   ],
   "source": [
    "JetBlue_emp = pd.read_csv(\"../Data/AirlineEmp/JetBlue.csv\", header=[1], delimiter=\",\")\n",
    "JetBlue_emp.set_index([\"Month\", \"Year\"])\n",
    "JetBlue_emp"
   ]
  },
  {
   "cell_type": "code",
   "execution_count": 6,
   "metadata": {},
   "outputs": [
    {
     "output_type": "execute_result",
     "data": {
      "text/plain": [
       "     Month  Year Full-time Part-time Grand Total\n",
       "0        1  1990     6,997       832       7,829\n",
       "1        2  1990     6,996       833       7,829\n",
       "2        3  1990     7,090       833       7,923\n",
       "3        4  1990     7,772       173       7,945\n",
       "4        5  1990     8,049       164       8,213\n",
       "..     ...   ...       ...       ...         ...\n",
       "366      7  2020    59,726     2,318      62,044\n",
       "367      8  2020    59,355     2,333      61,688\n",
       "368      9  2020    56,834     2,194      59,028\n",
       "369     10  2020    55,992     2,142      58,134\n",
       "370     11  2020    55,845     2,109      57,954\n",
       "\n",
       "[371 rows x 5 columns]"
      ],
      "text/html": "<div>\n<style scoped>\n    .dataframe tbody tr th:only-of-type {\n        vertical-align: middle;\n    }\n\n    .dataframe tbody tr th {\n        vertical-align: top;\n    }\n\n    .dataframe thead th {\n        text-align: right;\n    }\n</style>\n<table border=\"1\" class=\"dataframe\">\n  <thead>\n    <tr style=\"text-align: right;\">\n      <th></th>\n      <th>Month</th>\n      <th>Year</th>\n      <th>Full-time</th>\n      <th>Part-time</th>\n      <th>Grand Total</th>\n    </tr>\n  </thead>\n  <tbody>\n    <tr>\n      <th>0</th>\n      <td>1</td>\n      <td>1990</td>\n      <td>6,997</td>\n      <td>832</td>\n      <td>7,829</td>\n    </tr>\n    <tr>\n      <th>1</th>\n      <td>2</td>\n      <td>1990</td>\n      <td>6,996</td>\n      <td>833</td>\n      <td>7,829</td>\n    </tr>\n    <tr>\n      <th>2</th>\n      <td>3</td>\n      <td>1990</td>\n      <td>7,090</td>\n      <td>833</td>\n      <td>7,923</td>\n    </tr>\n    <tr>\n      <th>3</th>\n      <td>4</td>\n      <td>1990</td>\n      <td>7,772</td>\n      <td>173</td>\n      <td>7,945</td>\n    </tr>\n    <tr>\n      <th>4</th>\n      <td>5</td>\n      <td>1990</td>\n      <td>8,049</td>\n      <td>164</td>\n      <td>8,213</td>\n    </tr>\n    <tr>\n      <th>...</th>\n      <td>...</td>\n      <td>...</td>\n      <td>...</td>\n      <td>...</td>\n      <td>...</td>\n    </tr>\n    <tr>\n      <th>366</th>\n      <td>7</td>\n      <td>2020</td>\n      <td>59,726</td>\n      <td>2,318</td>\n      <td>62,044</td>\n    </tr>\n    <tr>\n      <th>367</th>\n      <td>8</td>\n      <td>2020</td>\n      <td>59,355</td>\n      <td>2,333</td>\n      <td>61,688</td>\n    </tr>\n    <tr>\n      <th>368</th>\n      <td>9</td>\n      <td>2020</td>\n      <td>56,834</td>\n      <td>2,194</td>\n      <td>59,028</td>\n    </tr>\n    <tr>\n      <th>369</th>\n      <td>10</td>\n      <td>2020</td>\n      <td>55,992</td>\n      <td>2,142</td>\n      <td>58,134</td>\n    </tr>\n    <tr>\n      <th>370</th>\n      <td>11</td>\n      <td>2020</td>\n      <td>55,845</td>\n      <td>2,109</td>\n      <td>57,954</td>\n    </tr>\n  </tbody>\n</table>\n<p>371 rows × 5 columns</p>\n</div>"
     },
     "metadata": {},
     "execution_count": 6
    }
   ],
   "source": [
    "SouthWest_emp = pd.read_csv(\"../Data/AirlineEmp/SouthWest.csv\", header=[1], delimiter=\",\")\n",
    "SouthWest_emp.set_index([\"Month\", \"Year\"])\n",
    "SouthWest_emp"
   ]
  },
  {
   "cell_type": "code",
   "execution_count": 7,
   "metadata": {},
   "outputs": [
    {
     "output_type": "execute_result",
     "data": {
      "text/plain": [
       "     Month  Year Full-time Part-time Grand Total\n",
       "0        1  1990    65,664     5,457      71,121\n",
       "1        2  1990    65,839     5,446      71,285\n",
       "2        3  1990    66,070     5,445      71,515\n",
       "3        4  1990    66,779     5,518      72,297\n",
       "4        5  1990    67,217     5,675      72,892\n",
       "..     ...   ...       ...       ...         ...\n",
       "366      7  2020    71,580     7,229      78,809\n",
       "367      8  2020    70,558     7,343      77,901\n",
       "368      9  2020    70,310     6,911      77,221\n",
       "369     10  2020    54,639     7,681      62,320\n",
       "370     11  2020    54,411     7,871      62,282\n",
       "\n",
       "[371 rows x 5 columns]"
      ],
      "text/html": "<div>\n<style scoped>\n    .dataframe tbody tr th:only-of-type {\n        vertical-align: middle;\n    }\n\n    .dataframe tbody tr th {\n        vertical-align: top;\n    }\n\n    .dataframe thead th {\n        text-align: right;\n    }\n</style>\n<table border=\"1\" class=\"dataframe\">\n  <thead>\n    <tr style=\"text-align: right;\">\n      <th></th>\n      <th>Month</th>\n      <th>Year</th>\n      <th>Full-time</th>\n      <th>Part-time</th>\n      <th>Grand Total</th>\n    </tr>\n  </thead>\n  <tbody>\n    <tr>\n      <th>0</th>\n      <td>1</td>\n      <td>1990</td>\n      <td>65,664</td>\n      <td>5,457</td>\n      <td>71,121</td>\n    </tr>\n    <tr>\n      <th>1</th>\n      <td>2</td>\n      <td>1990</td>\n      <td>65,839</td>\n      <td>5,446</td>\n      <td>71,285</td>\n    </tr>\n    <tr>\n      <th>2</th>\n      <td>3</td>\n      <td>1990</td>\n      <td>66,070</td>\n      <td>5,445</td>\n      <td>71,515</td>\n    </tr>\n    <tr>\n      <th>3</th>\n      <td>4</td>\n      <td>1990</td>\n      <td>66,779</td>\n      <td>5,518</td>\n      <td>72,297</td>\n    </tr>\n    <tr>\n      <th>4</th>\n      <td>5</td>\n      <td>1990</td>\n      <td>67,217</td>\n      <td>5,675</td>\n      <td>72,892</td>\n    </tr>\n    <tr>\n      <th>...</th>\n      <td>...</td>\n      <td>...</td>\n      <td>...</td>\n      <td>...</td>\n      <td>...</td>\n    </tr>\n    <tr>\n      <th>366</th>\n      <td>7</td>\n      <td>2020</td>\n      <td>71,580</td>\n      <td>7,229</td>\n      <td>78,809</td>\n    </tr>\n    <tr>\n      <th>367</th>\n      <td>8</td>\n      <td>2020</td>\n      <td>70,558</td>\n      <td>7,343</td>\n      <td>77,901</td>\n    </tr>\n    <tr>\n      <th>368</th>\n      <td>9</td>\n      <td>2020</td>\n      <td>70,310</td>\n      <td>6,911</td>\n      <td>77,221</td>\n    </tr>\n    <tr>\n      <th>369</th>\n      <td>10</td>\n      <td>2020</td>\n      <td>54,639</td>\n      <td>7,681</td>\n      <td>62,320</td>\n    </tr>\n    <tr>\n      <th>370</th>\n      <td>11</td>\n      <td>2020</td>\n      <td>54,411</td>\n      <td>7,871</td>\n      <td>62,282</td>\n    </tr>\n  </tbody>\n</table>\n<p>371 rows × 5 columns</p>\n</div>"
     },
     "metadata": {},
     "execution_count": 7
    }
   ],
   "source": [
    "United_emp = pd.read_csv(\"../Data/AirlineEmp/United.csv\", header=[1], delimiter=\",\")\n",
    "United_emp.set_index([\"Month\", \"Year\"])\n",
    "United_emp "
   ]
  },
  {
   "cell_type": "code",
   "execution_count": 8,
   "metadata": {},
   "outputs": [
    {
     "output_type": "execute_result",
     "data": {
      "text/plain": [
       "     Month  Year Full-time Part-time Grand Total\n",
       "348      1  2019    77,674    11,152      88,826\n",
       "349      2  2019    77,959    11,092      89,051\n",
       "350      3  2019    78,247    11,289      89,536\n",
       "351      4  2019    78,521    11,575      90,096\n",
       "352      5  2019    78,882    11,664      90,546\n",
       "353      6  2019    79,178    11,674      90,852\n",
       "354      7  2019    79,133    11,617      90,750\n",
       "355      8  2019    79,171    11,533      90,704\n",
       "356      9  2019    79,224    11,643      90,867\n",
       "357     10  2019    79,342    11,767      91,109\n",
       "358     11  2019    79,301    11,814      91,115\n",
       "359     12  2019    79,745    11,701      91,446\n",
       "360      1  2020    80,145    11,892      92,037\n",
       "361      2  2020    80,362    11,887      92,249\n",
       "362      3  2020    80,239    11,324      91,563\n",
       "363      4  2020    78,370     8,999      87,369\n",
       "364      5  2020    76,053     7,670      83,723\n",
       "365      6  2020    74,779     7,449      82,228\n",
       "366      7  2020    71,580     7,229      78,809\n",
       "367      8  2020    70,558     7,343      77,901\n",
       "368      9  2020    70,310     6,911      77,221\n",
       "369     10  2020    54,639     7,681      62,320\n",
       "370     11  2020    54,411     7,871      62,282"
      ],
      "text/html": "<div>\n<style scoped>\n    .dataframe tbody tr th:only-of-type {\n        vertical-align: middle;\n    }\n\n    .dataframe tbody tr th {\n        vertical-align: top;\n    }\n\n    .dataframe thead th {\n        text-align: right;\n    }\n</style>\n<table border=\"1\" class=\"dataframe\">\n  <thead>\n    <tr style=\"text-align: right;\">\n      <th></th>\n      <th>Month</th>\n      <th>Year</th>\n      <th>Full-time</th>\n      <th>Part-time</th>\n      <th>Grand Total</th>\n    </tr>\n  </thead>\n  <tbody>\n    <tr>\n      <th>348</th>\n      <td>1</td>\n      <td>2019</td>\n      <td>77,674</td>\n      <td>11,152</td>\n      <td>88,826</td>\n    </tr>\n    <tr>\n      <th>349</th>\n      <td>2</td>\n      <td>2019</td>\n      <td>77,959</td>\n      <td>11,092</td>\n      <td>89,051</td>\n    </tr>\n    <tr>\n      <th>350</th>\n      <td>3</td>\n      <td>2019</td>\n      <td>78,247</td>\n      <td>11,289</td>\n      <td>89,536</td>\n    </tr>\n    <tr>\n      <th>351</th>\n      <td>4</td>\n      <td>2019</td>\n      <td>78,521</td>\n      <td>11,575</td>\n      <td>90,096</td>\n    </tr>\n    <tr>\n      <th>352</th>\n      <td>5</td>\n      <td>2019</td>\n      <td>78,882</td>\n      <td>11,664</td>\n      <td>90,546</td>\n    </tr>\n    <tr>\n      <th>353</th>\n      <td>6</td>\n      <td>2019</td>\n      <td>79,178</td>\n      <td>11,674</td>\n      <td>90,852</td>\n    </tr>\n    <tr>\n      <th>354</th>\n      <td>7</td>\n      <td>2019</td>\n      <td>79,133</td>\n      <td>11,617</td>\n      <td>90,750</td>\n    </tr>\n    <tr>\n      <th>355</th>\n      <td>8</td>\n      <td>2019</td>\n      <td>79,171</td>\n      <td>11,533</td>\n      <td>90,704</td>\n    </tr>\n    <tr>\n      <th>356</th>\n      <td>9</td>\n      <td>2019</td>\n      <td>79,224</td>\n      <td>11,643</td>\n      <td>90,867</td>\n    </tr>\n    <tr>\n      <th>357</th>\n      <td>10</td>\n      <td>2019</td>\n      <td>79,342</td>\n      <td>11,767</td>\n      <td>91,109</td>\n    </tr>\n    <tr>\n      <th>358</th>\n      <td>11</td>\n      <td>2019</td>\n      <td>79,301</td>\n      <td>11,814</td>\n      <td>91,115</td>\n    </tr>\n    <tr>\n      <th>359</th>\n      <td>12</td>\n      <td>2019</td>\n      <td>79,745</td>\n      <td>11,701</td>\n      <td>91,446</td>\n    </tr>\n    <tr>\n      <th>360</th>\n      <td>1</td>\n      <td>2020</td>\n      <td>80,145</td>\n      <td>11,892</td>\n      <td>92,037</td>\n    </tr>\n    <tr>\n      <th>361</th>\n      <td>2</td>\n      <td>2020</td>\n      <td>80,362</td>\n      <td>11,887</td>\n      <td>92,249</td>\n    </tr>\n    <tr>\n      <th>362</th>\n      <td>3</td>\n      <td>2020</td>\n      <td>80,239</td>\n      <td>11,324</td>\n      <td>91,563</td>\n    </tr>\n    <tr>\n      <th>363</th>\n      <td>4</td>\n      <td>2020</td>\n      <td>78,370</td>\n      <td>8,999</td>\n      <td>87,369</td>\n    </tr>\n    <tr>\n      <th>364</th>\n      <td>5</td>\n      <td>2020</td>\n      <td>76,053</td>\n      <td>7,670</td>\n      <td>83,723</td>\n    </tr>\n    <tr>\n      <th>365</th>\n      <td>6</td>\n      <td>2020</td>\n      <td>74,779</td>\n      <td>7,449</td>\n      <td>82,228</td>\n    </tr>\n    <tr>\n      <th>366</th>\n      <td>7</td>\n      <td>2020</td>\n      <td>71,580</td>\n      <td>7,229</td>\n      <td>78,809</td>\n    </tr>\n    <tr>\n      <th>367</th>\n      <td>8</td>\n      <td>2020</td>\n      <td>70,558</td>\n      <td>7,343</td>\n      <td>77,901</td>\n    </tr>\n    <tr>\n      <th>368</th>\n      <td>9</td>\n      <td>2020</td>\n      <td>70,310</td>\n      <td>6,911</td>\n      <td>77,221</td>\n    </tr>\n    <tr>\n      <th>369</th>\n      <td>10</td>\n      <td>2020</td>\n      <td>54,639</td>\n      <td>7,681</td>\n      <td>62,320</td>\n    </tr>\n    <tr>\n      <th>370</th>\n      <td>11</td>\n      <td>2020</td>\n      <td>54,411</td>\n      <td>7,871</td>\n      <td>62,282</td>\n    </tr>\n  </tbody>\n</table>\n</div>"
     },
     "metadata": {},
     "execution_count": 8
    }
   ],
   "source": [
    "UA_emp = United_emp.loc[United_emp[\"Year\"] > 2018]\n",
    "UA_emp\n"
   ]
  },
  {
   "cell_type": "code",
   "execution_count": 32,
   "metadata": {},
   "outputs": [
    {
     "output_type": "execute_result",
     "data": {
      "text/plain": [
       "     Month UA_emp_19\n",
       "348      1    88,826\n",
       "349      2    89,051\n",
       "350      3    89,536\n",
       "351      4    90,096\n",
       "352      5    90,546\n",
       "353      6    90,852\n",
       "354      7    90,750\n",
       "355      8    90,704\n",
       "356      9    90,867\n",
       "357     10    91,109\n",
       "358     11    91,115\n",
       "359     12    91,446"
      ],
      "text/html": "<div>\n<style scoped>\n    .dataframe tbody tr th:only-of-type {\n        vertical-align: middle;\n    }\n\n    .dataframe tbody tr th {\n        vertical-align: top;\n    }\n\n    .dataframe thead th {\n        text-align: right;\n    }\n</style>\n<table border=\"1\" class=\"dataframe\">\n  <thead>\n    <tr style=\"text-align: right;\">\n      <th></th>\n      <th>Month</th>\n      <th>UA_emp_19</th>\n    </tr>\n  </thead>\n  <tbody>\n    <tr>\n      <th>348</th>\n      <td>1</td>\n      <td>88,826</td>\n    </tr>\n    <tr>\n      <th>349</th>\n      <td>2</td>\n      <td>89,051</td>\n    </tr>\n    <tr>\n      <th>350</th>\n      <td>3</td>\n      <td>89,536</td>\n    </tr>\n    <tr>\n      <th>351</th>\n      <td>4</td>\n      <td>90,096</td>\n    </tr>\n    <tr>\n      <th>352</th>\n      <td>5</td>\n      <td>90,546</td>\n    </tr>\n    <tr>\n      <th>353</th>\n      <td>6</td>\n      <td>90,852</td>\n    </tr>\n    <tr>\n      <th>354</th>\n      <td>7</td>\n      <td>90,750</td>\n    </tr>\n    <tr>\n      <th>355</th>\n      <td>8</td>\n      <td>90,704</td>\n    </tr>\n    <tr>\n      <th>356</th>\n      <td>9</td>\n      <td>90,867</td>\n    </tr>\n    <tr>\n      <th>357</th>\n      <td>10</td>\n      <td>91,109</td>\n    </tr>\n    <tr>\n      <th>358</th>\n      <td>11</td>\n      <td>91,115</td>\n    </tr>\n    <tr>\n      <th>359</th>\n      <td>12</td>\n      <td>91,446</td>\n    </tr>\n  </tbody>\n</table>\n</div>"
     },
     "metadata": {},
     "execution_count": 32
    }
   ],
   "source": [
    "UA_emp19 = UA_emp.loc[UA_emp[\"Year\"] == 2019]\n",
    "UA_emp19 = UA_emp19[[\"Month\", \"Grand Total\"]]\n",
    "UA_emp19\n",
    "UA_emp19 = UA_emp19.rename(columns={\"Grand Total\": \"UA_emp_19\"})\n",
    "UA_emp19"
   ]
  },
  {
   "cell_type": "code",
   "execution_count": 33,
   "metadata": {},
   "outputs": [
    {
     "output_type": "execute_result",
     "data": {
      "text/plain": [
       "     Month UA_emp_20\n",
       "360      1    92,037\n",
       "361      2    92,249\n",
       "362      3    91,563\n",
       "363      4    87,369\n",
       "364      5    83,723\n",
       "365      6    82,228\n",
       "366      7    78,809\n",
       "367      8    77,901\n",
       "368      9    77,221\n",
       "369     10    62,320\n",
       "370     11    62,282"
      ],
      "text/html": "<div>\n<style scoped>\n    .dataframe tbody tr th:only-of-type {\n        vertical-align: middle;\n    }\n\n    .dataframe tbody tr th {\n        vertical-align: top;\n    }\n\n    .dataframe thead th {\n        text-align: right;\n    }\n</style>\n<table border=\"1\" class=\"dataframe\">\n  <thead>\n    <tr style=\"text-align: right;\">\n      <th></th>\n      <th>Month</th>\n      <th>UA_emp_20</th>\n    </tr>\n  </thead>\n  <tbody>\n    <tr>\n      <th>360</th>\n      <td>1</td>\n      <td>92,037</td>\n    </tr>\n    <tr>\n      <th>361</th>\n      <td>2</td>\n      <td>92,249</td>\n    </tr>\n    <tr>\n      <th>362</th>\n      <td>3</td>\n      <td>91,563</td>\n    </tr>\n    <tr>\n      <th>363</th>\n      <td>4</td>\n      <td>87,369</td>\n    </tr>\n    <tr>\n      <th>364</th>\n      <td>5</td>\n      <td>83,723</td>\n    </tr>\n    <tr>\n      <th>365</th>\n      <td>6</td>\n      <td>82,228</td>\n    </tr>\n    <tr>\n      <th>366</th>\n      <td>7</td>\n      <td>78,809</td>\n    </tr>\n    <tr>\n      <th>367</th>\n      <td>8</td>\n      <td>77,901</td>\n    </tr>\n    <tr>\n      <th>368</th>\n      <td>9</td>\n      <td>77,221</td>\n    </tr>\n    <tr>\n      <th>369</th>\n      <td>10</td>\n      <td>62,320</td>\n    </tr>\n    <tr>\n      <th>370</th>\n      <td>11</td>\n      <td>62,282</td>\n    </tr>\n  </tbody>\n</table>\n</div>"
     },
     "metadata": {},
     "execution_count": 33
    }
   ],
   "source": [
    "UA_emp20 = UA_emp.loc[UA_emp[\"Year\"] == 2020]\n",
    "UA_emp20 = UA_emp20[[\"Month\", \"Grand Total\"]]\n",
    "UA_emp20\n",
    "UA_emp20 = UA_emp20.rename(columns={\"Grand Total\": \"UA_emp_20\"})\n",
    "UA_emp20"
   ]
  },
  {
   "cell_type": "code",
   "execution_count": 34,
   "metadata": {},
   "outputs": [
    {
     "output_type": "execute_result",
     "data": {
      "text/plain": [
       "    Month UA_emp_19 UA_emp_20\n",
       "0       1    88,826    92,037\n",
       "1       2    89,051    92,249\n",
       "2       3    89,536    91,563\n",
       "3       4    90,096    87,369\n",
       "4       5    90,546    83,723\n",
       "5       6    90,852    82,228\n",
       "6       7    90,750    78,809\n",
       "7       8    90,704    77,901\n",
       "8       9    90,867    77,221\n",
       "9      10    91,109    62,320\n",
       "10     11    91,115    62,282\n",
       "11     12    91,446       NaN"
      ],
      "text/html": "<div>\n<style scoped>\n    .dataframe tbody tr th:only-of-type {\n        vertical-align: middle;\n    }\n\n    .dataframe tbody tr th {\n        vertical-align: top;\n    }\n\n    .dataframe thead th {\n        text-align: right;\n    }\n</style>\n<table border=\"1\" class=\"dataframe\">\n  <thead>\n    <tr style=\"text-align: right;\">\n      <th></th>\n      <th>Month</th>\n      <th>UA_emp_19</th>\n      <th>UA_emp_20</th>\n    </tr>\n  </thead>\n  <tbody>\n    <tr>\n      <th>0</th>\n      <td>1</td>\n      <td>88,826</td>\n      <td>92,037</td>\n    </tr>\n    <tr>\n      <th>1</th>\n      <td>2</td>\n      <td>89,051</td>\n      <td>92,249</td>\n    </tr>\n    <tr>\n      <th>2</th>\n      <td>3</td>\n      <td>89,536</td>\n      <td>91,563</td>\n    </tr>\n    <tr>\n      <th>3</th>\n      <td>4</td>\n      <td>90,096</td>\n      <td>87,369</td>\n    </tr>\n    <tr>\n      <th>4</th>\n      <td>5</td>\n      <td>90,546</td>\n      <td>83,723</td>\n    </tr>\n    <tr>\n      <th>5</th>\n      <td>6</td>\n      <td>90,852</td>\n      <td>82,228</td>\n    </tr>\n    <tr>\n      <th>6</th>\n      <td>7</td>\n      <td>90,750</td>\n      <td>78,809</td>\n    </tr>\n    <tr>\n      <th>7</th>\n      <td>8</td>\n      <td>90,704</td>\n      <td>77,901</td>\n    </tr>\n    <tr>\n      <th>8</th>\n      <td>9</td>\n      <td>90,867</td>\n      <td>77,221</td>\n    </tr>\n    <tr>\n      <th>9</th>\n      <td>10</td>\n      <td>91,109</td>\n      <td>62,320</td>\n    </tr>\n    <tr>\n      <th>10</th>\n      <td>11</td>\n      <td>91,115</td>\n      <td>62,282</td>\n    </tr>\n    <tr>\n      <th>11</th>\n      <td>12</td>\n      <td>91,446</td>\n      <td>NaN</td>\n    </tr>\n  </tbody>\n</table>\n</div>"
     },
     "metadata": {},
     "execution_count": 34
    }
   ],
   "source": [
    "UA_emp_comb = UA_emp19.merge(UA_emp20, on=\"Month\", how=\"left\")\n",
    "UA_emp_comb"
   ]
  },
  {
   "cell_type": "code",
   "execution_count": 9,
   "metadata": {},
   "outputs": [
    {
     "output_type": "execute_result",
     "data": {
      "text/plain": [
       "     Month  Year Full-time Part-time Grand Total\n",
       "348      1  2019    57,902     2,361      60,263\n",
       "349      2  2019    58,156     2,292      60,448\n",
       "350      3  2019    58,312     2,247      60,559\n",
       "351      4  2019    58,474     2,255      60,729\n",
       "352      5  2019    58,517     2,240      60,757\n",
       "353      6  2019    58,698     2,190      60,888\n",
       "354      7  2019    58,873     2,184      61,057\n",
       "355      8  2019    59,053     2,235      61,288\n",
       "356      9  2019    59,453     2,274      61,727\n",
       "357     10  2019    59,657     2,308      61,965\n",
       "358     11  2019    59,605     2,282      61,887\n",
       "359     12  2019    59,629     2,276      61,905\n",
       "360      1  2020    59,914     2,302      62,216\n",
       "361      2  2020    60,092     2,344      62,436\n",
       "362      3  2020    59,763     2,318      62,081\n",
       "363      4  2020    59,866     2,325      62,191\n",
       "364      5  2020    60,012     2,333      62,345\n",
       "365      6  2020    59,947     2,341      62,288\n",
       "366      7  2020    59,726     2,318      62,044\n",
       "367      8  2020    59,355     2,333      61,688\n",
       "368      9  2020    56,834     2,194      59,028\n",
       "369     10  2020    55,992     2,142      58,134\n",
       "370     11  2020    55,845     2,109      57,954"
      ],
      "text/html": "<div>\n<style scoped>\n    .dataframe tbody tr th:only-of-type {\n        vertical-align: middle;\n    }\n\n    .dataframe tbody tr th {\n        vertical-align: top;\n    }\n\n    .dataframe thead th {\n        text-align: right;\n    }\n</style>\n<table border=\"1\" class=\"dataframe\">\n  <thead>\n    <tr style=\"text-align: right;\">\n      <th></th>\n      <th>Month</th>\n      <th>Year</th>\n      <th>Full-time</th>\n      <th>Part-time</th>\n      <th>Grand Total</th>\n    </tr>\n  </thead>\n  <tbody>\n    <tr>\n      <th>348</th>\n      <td>1</td>\n      <td>2019</td>\n      <td>57,902</td>\n      <td>2,361</td>\n      <td>60,263</td>\n    </tr>\n    <tr>\n      <th>349</th>\n      <td>2</td>\n      <td>2019</td>\n      <td>58,156</td>\n      <td>2,292</td>\n      <td>60,448</td>\n    </tr>\n    <tr>\n      <th>350</th>\n      <td>3</td>\n      <td>2019</td>\n      <td>58,312</td>\n      <td>2,247</td>\n      <td>60,559</td>\n    </tr>\n    <tr>\n      <th>351</th>\n      <td>4</td>\n      <td>2019</td>\n      <td>58,474</td>\n      <td>2,255</td>\n      <td>60,729</td>\n    </tr>\n    <tr>\n      <th>352</th>\n      <td>5</td>\n      <td>2019</td>\n      <td>58,517</td>\n      <td>2,240</td>\n      <td>60,757</td>\n    </tr>\n    <tr>\n      <th>353</th>\n      <td>6</td>\n      <td>2019</td>\n      <td>58,698</td>\n      <td>2,190</td>\n      <td>60,888</td>\n    </tr>\n    <tr>\n      <th>354</th>\n      <td>7</td>\n      <td>2019</td>\n      <td>58,873</td>\n      <td>2,184</td>\n      <td>61,057</td>\n    </tr>\n    <tr>\n      <th>355</th>\n      <td>8</td>\n      <td>2019</td>\n      <td>59,053</td>\n      <td>2,235</td>\n      <td>61,288</td>\n    </tr>\n    <tr>\n      <th>356</th>\n      <td>9</td>\n      <td>2019</td>\n      <td>59,453</td>\n      <td>2,274</td>\n      <td>61,727</td>\n    </tr>\n    <tr>\n      <th>357</th>\n      <td>10</td>\n      <td>2019</td>\n      <td>59,657</td>\n      <td>2,308</td>\n      <td>61,965</td>\n    </tr>\n    <tr>\n      <th>358</th>\n      <td>11</td>\n      <td>2019</td>\n      <td>59,605</td>\n      <td>2,282</td>\n      <td>61,887</td>\n    </tr>\n    <tr>\n      <th>359</th>\n      <td>12</td>\n      <td>2019</td>\n      <td>59,629</td>\n      <td>2,276</td>\n      <td>61,905</td>\n    </tr>\n    <tr>\n      <th>360</th>\n      <td>1</td>\n      <td>2020</td>\n      <td>59,914</td>\n      <td>2,302</td>\n      <td>62,216</td>\n    </tr>\n    <tr>\n      <th>361</th>\n      <td>2</td>\n      <td>2020</td>\n      <td>60,092</td>\n      <td>2,344</td>\n      <td>62,436</td>\n    </tr>\n    <tr>\n      <th>362</th>\n      <td>3</td>\n      <td>2020</td>\n      <td>59,763</td>\n      <td>2,318</td>\n      <td>62,081</td>\n    </tr>\n    <tr>\n      <th>363</th>\n      <td>4</td>\n      <td>2020</td>\n      <td>59,866</td>\n      <td>2,325</td>\n      <td>62,191</td>\n    </tr>\n    <tr>\n      <th>364</th>\n      <td>5</td>\n      <td>2020</td>\n      <td>60,012</td>\n      <td>2,333</td>\n      <td>62,345</td>\n    </tr>\n    <tr>\n      <th>365</th>\n      <td>6</td>\n      <td>2020</td>\n      <td>59,947</td>\n      <td>2,341</td>\n      <td>62,288</td>\n    </tr>\n    <tr>\n      <th>366</th>\n      <td>7</td>\n      <td>2020</td>\n      <td>59,726</td>\n      <td>2,318</td>\n      <td>62,044</td>\n    </tr>\n    <tr>\n      <th>367</th>\n      <td>8</td>\n      <td>2020</td>\n      <td>59,355</td>\n      <td>2,333</td>\n      <td>61,688</td>\n    </tr>\n    <tr>\n      <th>368</th>\n      <td>9</td>\n      <td>2020</td>\n      <td>56,834</td>\n      <td>2,194</td>\n      <td>59,028</td>\n    </tr>\n    <tr>\n      <th>369</th>\n      <td>10</td>\n      <td>2020</td>\n      <td>55,992</td>\n      <td>2,142</td>\n      <td>58,134</td>\n    </tr>\n    <tr>\n      <th>370</th>\n      <td>11</td>\n      <td>2020</td>\n      <td>55,845</td>\n      <td>2,109</td>\n      <td>57,954</td>\n    </tr>\n  </tbody>\n</table>\n</div>"
     },
     "metadata": {},
     "execution_count": 9
    }
   ],
   "source": [
    "SW_emp = SouthWest_emp.loc[SouthWest_emp[\"Year\"] > 2018]\n",
    "SW_emp"
   ]
  },
  {
   "cell_type": "code",
   "execution_count": 35,
   "metadata": {},
   "outputs": [
    {
     "output_type": "execute_result",
     "data": {
      "text/plain": [
       "     Month SW_emp_19\n",
       "348      1    60,263\n",
       "349      2    60,448\n",
       "350      3    60,559\n",
       "351      4    60,729\n",
       "352      5    60,757\n",
       "353      6    60,888\n",
       "354      7    61,057\n",
       "355      8    61,288\n",
       "356      9    61,727\n",
       "357     10    61,965\n",
       "358     11    61,887\n",
       "359     12    61,905"
      ],
      "text/html": "<div>\n<style scoped>\n    .dataframe tbody tr th:only-of-type {\n        vertical-align: middle;\n    }\n\n    .dataframe tbody tr th {\n        vertical-align: top;\n    }\n\n    .dataframe thead th {\n        text-align: right;\n    }\n</style>\n<table border=\"1\" class=\"dataframe\">\n  <thead>\n    <tr style=\"text-align: right;\">\n      <th></th>\n      <th>Month</th>\n      <th>SW_emp_19</th>\n    </tr>\n  </thead>\n  <tbody>\n    <tr>\n      <th>348</th>\n      <td>1</td>\n      <td>60,263</td>\n    </tr>\n    <tr>\n      <th>349</th>\n      <td>2</td>\n      <td>60,448</td>\n    </tr>\n    <tr>\n      <th>350</th>\n      <td>3</td>\n      <td>60,559</td>\n    </tr>\n    <tr>\n      <th>351</th>\n      <td>4</td>\n      <td>60,729</td>\n    </tr>\n    <tr>\n      <th>352</th>\n      <td>5</td>\n      <td>60,757</td>\n    </tr>\n    <tr>\n      <th>353</th>\n      <td>6</td>\n      <td>60,888</td>\n    </tr>\n    <tr>\n      <th>354</th>\n      <td>7</td>\n      <td>61,057</td>\n    </tr>\n    <tr>\n      <th>355</th>\n      <td>8</td>\n      <td>61,288</td>\n    </tr>\n    <tr>\n      <th>356</th>\n      <td>9</td>\n      <td>61,727</td>\n    </tr>\n    <tr>\n      <th>357</th>\n      <td>10</td>\n      <td>61,965</td>\n    </tr>\n    <tr>\n      <th>358</th>\n      <td>11</td>\n      <td>61,887</td>\n    </tr>\n    <tr>\n      <th>359</th>\n      <td>12</td>\n      <td>61,905</td>\n    </tr>\n  </tbody>\n</table>\n</div>"
     },
     "metadata": {},
     "execution_count": 35
    }
   ],
   "source": [
    "SW_emp19 = SW_emp.loc[SW_emp[\"Year\"] == 2019]\n",
    "SW_emp19 = SW_emp19[[\"Month\", \"Grand Total\"]]\n",
    "SW_emp19\n",
    "SW_emp19 = SW_emp19.rename(columns={\"Grand Total\": \"SW_emp_19\"})\n",
    "SW_emp19"
   ]
  },
  {
   "cell_type": "code",
   "execution_count": 36,
   "metadata": {},
   "outputs": [
    {
     "output_type": "execute_result",
     "data": {
      "text/plain": [
       "     Month SW_emp_20\n",
       "360      1    62,216\n",
       "361      2    62,436\n",
       "362      3    62,081\n",
       "363      4    62,191\n",
       "364      5    62,345\n",
       "365      6    62,288\n",
       "366      7    62,044\n",
       "367      8    61,688\n",
       "368      9    59,028\n",
       "369     10    58,134\n",
       "370     11    57,954"
      ],
      "text/html": "<div>\n<style scoped>\n    .dataframe tbody tr th:only-of-type {\n        vertical-align: middle;\n    }\n\n    .dataframe tbody tr th {\n        vertical-align: top;\n    }\n\n    .dataframe thead th {\n        text-align: right;\n    }\n</style>\n<table border=\"1\" class=\"dataframe\">\n  <thead>\n    <tr style=\"text-align: right;\">\n      <th></th>\n      <th>Month</th>\n      <th>SW_emp_20</th>\n    </tr>\n  </thead>\n  <tbody>\n    <tr>\n      <th>360</th>\n      <td>1</td>\n      <td>62,216</td>\n    </tr>\n    <tr>\n      <th>361</th>\n      <td>2</td>\n      <td>62,436</td>\n    </tr>\n    <tr>\n      <th>362</th>\n      <td>3</td>\n      <td>62,081</td>\n    </tr>\n    <tr>\n      <th>363</th>\n      <td>4</td>\n      <td>62,191</td>\n    </tr>\n    <tr>\n      <th>364</th>\n      <td>5</td>\n      <td>62,345</td>\n    </tr>\n    <tr>\n      <th>365</th>\n      <td>6</td>\n      <td>62,288</td>\n    </tr>\n    <tr>\n      <th>366</th>\n      <td>7</td>\n      <td>62,044</td>\n    </tr>\n    <tr>\n      <th>367</th>\n      <td>8</td>\n      <td>61,688</td>\n    </tr>\n    <tr>\n      <th>368</th>\n      <td>9</td>\n      <td>59,028</td>\n    </tr>\n    <tr>\n      <th>369</th>\n      <td>10</td>\n      <td>58,134</td>\n    </tr>\n    <tr>\n      <th>370</th>\n      <td>11</td>\n      <td>57,954</td>\n    </tr>\n  </tbody>\n</table>\n</div>"
     },
     "metadata": {},
     "execution_count": 36
    }
   ],
   "source": [
    "SW_emp20 = SW_emp.loc[SW_emp[\"Year\"] == 2020]\n",
    "SW_emp20 = SW_emp20[[\"Month\", \"Grand Total\"]]\n",
    "SW_emp20\n",
    "SW_emp20 = SW_emp20.rename(columns={\"Grand Total\": \"SW_emp_20\"})\n",
    "SW_emp20"
   ]
  },
  {
   "cell_type": "code",
   "execution_count": 37,
   "metadata": {},
   "outputs": [
    {
     "output_type": "execute_result",
     "data": {
      "text/plain": [
       "    Month SW_emp_19 SW_emp_20\n",
       "0       1    60,263    62,216\n",
       "1       2    60,448    62,436\n",
       "2       3    60,559    62,081\n",
       "3       4    60,729    62,191\n",
       "4       5    60,757    62,345\n",
       "5       6    60,888    62,288\n",
       "6       7    61,057    62,044\n",
       "7       8    61,288    61,688\n",
       "8       9    61,727    59,028\n",
       "9      10    61,965    58,134\n",
       "10     11    61,887    57,954\n",
       "11     12    61,905       NaN"
      ],
      "text/html": "<div>\n<style scoped>\n    .dataframe tbody tr th:only-of-type {\n        vertical-align: middle;\n    }\n\n    .dataframe tbody tr th {\n        vertical-align: top;\n    }\n\n    .dataframe thead th {\n        text-align: right;\n    }\n</style>\n<table border=\"1\" class=\"dataframe\">\n  <thead>\n    <tr style=\"text-align: right;\">\n      <th></th>\n      <th>Month</th>\n      <th>SW_emp_19</th>\n      <th>SW_emp_20</th>\n    </tr>\n  </thead>\n  <tbody>\n    <tr>\n      <th>0</th>\n      <td>1</td>\n      <td>60,263</td>\n      <td>62,216</td>\n    </tr>\n    <tr>\n      <th>1</th>\n      <td>2</td>\n      <td>60,448</td>\n      <td>62,436</td>\n    </tr>\n    <tr>\n      <th>2</th>\n      <td>3</td>\n      <td>60,559</td>\n      <td>62,081</td>\n    </tr>\n    <tr>\n      <th>3</th>\n      <td>4</td>\n      <td>60,729</td>\n      <td>62,191</td>\n    </tr>\n    <tr>\n      <th>4</th>\n      <td>5</td>\n      <td>60,757</td>\n      <td>62,345</td>\n    </tr>\n    <tr>\n      <th>5</th>\n      <td>6</td>\n      <td>60,888</td>\n      <td>62,288</td>\n    </tr>\n    <tr>\n      <th>6</th>\n      <td>7</td>\n      <td>61,057</td>\n      <td>62,044</td>\n    </tr>\n    <tr>\n      <th>7</th>\n      <td>8</td>\n      <td>61,288</td>\n      <td>61,688</td>\n    </tr>\n    <tr>\n      <th>8</th>\n      <td>9</td>\n      <td>61,727</td>\n      <td>59,028</td>\n    </tr>\n    <tr>\n      <th>9</th>\n      <td>10</td>\n      <td>61,965</td>\n      <td>58,134</td>\n    </tr>\n    <tr>\n      <th>10</th>\n      <td>11</td>\n      <td>61,887</td>\n      <td>57,954</td>\n    </tr>\n    <tr>\n      <th>11</th>\n      <td>12</td>\n      <td>61,905</td>\n      <td>NaN</td>\n    </tr>\n  </tbody>\n</table>\n</div>"
     },
     "metadata": {},
     "execution_count": 37
    }
   ],
   "source": [
    "SW_emp_comb = SW_emp19.merge(SW_emp20, on=\"Month\", how=\"left\")\n",
    "SW_emp_comb"
   ]
  },
  {
   "cell_type": "code",
   "execution_count": 10,
   "metadata": {},
   "outputs": [
    {
     "output_type": "execute_result",
     "data": {
      "text/plain": [
       "     Month  Year Full-time Part-time Grand Total\n",
       "227      1  2019    15,995     5,211      21,206\n",
       "228      2  2019    16,079     5,254      21,333\n",
       "229      3  2019    16,280     5,204      21,484\n",
       "230      4  2019    16,398     5,206      21,604\n",
       "231      5  2019    16,498     5,148      21,646\n",
       "232      6  2019    16,642     5,099      21,741\n",
       "233      7  2019    16,591     5,080      21,671\n",
       "234      8  2019    16,602     5,032      21,634\n",
       "235      9  2019    16,674     4,972      21,646\n",
       "236     10  2019    16,751     4,930      21,681\n",
       "237     11  2019    16,780     4,906      21,686\n",
       "238     12  2019    16,648     4,851      21,499\n",
       "239      1  2020    16,738     4,860      21,598\n",
       "240      2  2020    16,856     4,865      21,721\n",
       "241      3  2020    16,745     4,801      21,546\n",
       "242      4  2020    16,756     4,778      21,534\n",
       "243      5  2020    16,470     5,155      21,625\n",
       "244      6  2020    16,418     5,138      21,556\n",
       "245      7  2020    16,389     5,028      21,417\n",
       "246      8  2020    16,246     4,661      20,907\n",
       "247      9  2020    15,735     3,913      19,648\n",
       "248     10  2020    15,539     3,709      19,248\n",
       "249     11  2020    15,464     3,650      19,114"
      ],
      "text/html": "<div>\n<style scoped>\n    .dataframe tbody tr th:only-of-type {\n        vertical-align: middle;\n    }\n\n    .dataframe tbody tr th {\n        vertical-align: top;\n    }\n\n    .dataframe thead th {\n        text-align: right;\n    }\n</style>\n<table border=\"1\" class=\"dataframe\">\n  <thead>\n    <tr style=\"text-align: right;\">\n      <th></th>\n      <th>Month</th>\n      <th>Year</th>\n      <th>Full-time</th>\n      <th>Part-time</th>\n      <th>Grand Total</th>\n    </tr>\n  </thead>\n  <tbody>\n    <tr>\n      <th>227</th>\n      <td>1</td>\n      <td>2019</td>\n      <td>15,995</td>\n      <td>5,211</td>\n      <td>21,206</td>\n    </tr>\n    <tr>\n      <th>228</th>\n      <td>2</td>\n      <td>2019</td>\n      <td>16,079</td>\n      <td>5,254</td>\n      <td>21,333</td>\n    </tr>\n    <tr>\n      <th>229</th>\n      <td>3</td>\n      <td>2019</td>\n      <td>16,280</td>\n      <td>5,204</td>\n      <td>21,484</td>\n    </tr>\n    <tr>\n      <th>230</th>\n      <td>4</td>\n      <td>2019</td>\n      <td>16,398</td>\n      <td>5,206</td>\n      <td>21,604</td>\n    </tr>\n    <tr>\n      <th>231</th>\n      <td>5</td>\n      <td>2019</td>\n      <td>16,498</td>\n      <td>5,148</td>\n      <td>21,646</td>\n    </tr>\n    <tr>\n      <th>232</th>\n      <td>6</td>\n      <td>2019</td>\n      <td>16,642</td>\n      <td>5,099</td>\n      <td>21,741</td>\n    </tr>\n    <tr>\n      <th>233</th>\n      <td>7</td>\n      <td>2019</td>\n      <td>16,591</td>\n      <td>5,080</td>\n      <td>21,671</td>\n    </tr>\n    <tr>\n      <th>234</th>\n      <td>8</td>\n      <td>2019</td>\n      <td>16,602</td>\n      <td>5,032</td>\n      <td>21,634</td>\n    </tr>\n    <tr>\n      <th>235</th>\n      <td>9</td>\n      <td>2019</td>\n      <td>16,674</td>\n      <td>4,972</td>\n      <td>21,646</td>\n    </tr>\n    <tr>\n      <th>236</th>\n      <td>10</td>\n      <td>2019</td>\n      <td>16,751</td>\n      <td>4,930</td>\n      <td>21,681</td>\n    </tr>\n    <tr>\n      <th>237</th>\n      <td>11</td>\n      <td>2019</td>\n      <td>16,780</td>\n      <td>4,906</td>\n      <td>21,686</td>\n    </tr>\n    <tr>\n      <th>238</th>\n      <td>12</td>\n      <td>2019</td>\n      <td>16,648</td>\n      <td>4,851</td>\n      <td>21,499</td>\n    </tr>\n    <tr>\n      <th>239</th>\n      <td>1</td>\n      <td>2020</td>\n      <td>16,738</td>\n      <td>4,860</td>\n      <td>21,598</td>\n    </tr>\n    <tr>\n      <th>240</th>\n      <td>2</td>\n      <td>2020</td>\n      <td>16,856</td>\n      <td>4,865</td>\n      <td>21,721</td>\n    </tr>\n    <tr>\n      <th>241</th>\n      <td>3</td>\n      <td>2020</td>\n      <td>16,745</td>\n      <td>4,801</td>\n      <td>21,546</td>\n    </tr>\n    <tr>\n      <th>242</th>\n      <td>4</td>\n      <td>2020</td>\n      <td>16,756</td>\n      <td>4,778</td>\n      <td>21,534</td>\n    </tr>\n    <tr>\n      <th>243</th>\n      <td>5</td>\n      <td>2020</td>\n      <td>16,470</td>\n      <td>5,155</td>\n      <td>21,625</td>\n    </tr>\n    <tr>\n      <th>244</th>\n      <td>6</td>\n      <td>2020</td>\n      <td>16,418</td>\n      <td>5,138</td>\n      <td>21,556</td>\n    </tr>\n    <tr>\n      <th>245</th>\n      <td>7</td>\n      <td>2020</td>\n      <td>16,389</td>\n      <td>5,028</td>\n      <td>21,417</td>\n    </tr>\n    <tr>\n      <th>246</th>\n      <td>8</td>\n      <td>2020</td>\n      <td>16,246</td>\n      <td>4,661</td>\n      <td>20,907</td>\n    </tr>\n    <tr>\n      <th>247</th>\n      <td>9</td>\n      <td>2020</td>\n      <td>15,735</td>\n      <td>3,913</td>\n      <td>19,648</td>\n    </tr>\n    <tr>\n      <th>248</th>\n      <td>10</td>\n      <td>2020</td>\n      <td>15,539</td>\n      <td>3,709</td>\n      <td>19,248</td>\n    </tr>\n    <tr>\n      <th>249</th>\n      <td>11</td>\n      <td>2020</td>\n      <td>15,464</td>\n      <td>3,650</td>\n      <td>19,114</td>\n    </tr>\n  </tbody>\n</table>\n</div>"
     },
     "metadata": {},
     "execution_count": 10
    }
   ],
   "source": [
    "JB_emp = JetBlue_emp.loc[JetBlue_emp[\"Year\"] > 2018]\n",
    "JB_emp"
   ]
  },
  {
   "cell_type": "code",
   "execution_count": 39,
   "metadata": {},
   "outputs": [
    {
     "output_type": "execute_result",
     "data": {
      "text/plain": [
       "     Month JB_emp_19\n",
       "227      1    21,206\n",
       "228      2    21,333\n",
       "229      3    21,484\n",
       "230      4    21,604\n",
       "231      5    21,646\n",
       "232      6    21,741\n",
       "233      7    21,671\n",
       "234      8    21,634\n",
       "235      9    21,646\n",
       "236     10    21,681\n",
       "237     11    21,686\n",
       "238     12    21,499"
      ],
      "text/html": "<div>\n<style scoped>\n    .dataframe tbody tr th:only-of-type {\n        vertical-align: middle;\n    }\n\n    .dataframe tbody tr th {\n        vertical-align: top;\n    }\n\n    .dataframe thead th {\n        text-align: right;\n    }\n</style>\n<table border=\"1\" class=\"dataframe\">\n  <thead>\n    <tr style=\"text-align: right;\">\n      <th></th>\n      <th>Month</th>\n      <th>JB_emp_19</th>\n    </tr>\n  </thead>\n  <tbody>\n    <tr>\n      <th>227</th>\n      <td>1</td>\n      <td>21,206</td>\n    </tr>\n    <tr>\n      <th>228</th>\n      <td>2</td>\n      <td>21,333</td>\n    </tr>\n    <tr>\n      <th>229</th>\n      <td>3</td>\n      <td>21,484</td>\n    </tr>\n    <tr>\n      <th>230</th>\n      <td>4</td>\n      <td>21,604</td>\n    </tr>\n    <tr>\n      <th>231</th>\n      <td>5</td>\n      <td>21,646</td>\n    </tr>\n    <tr>\n      <th>232</th>\n      <td>6</td>\n      <td>21,741</td>\n    </tr>\n    <tr>\n      <th>233</th>\n      <td>7</td>\n      <td>21,671</td>\n    </tr>\n    <tr>\n      <th>234</th>\n      <td>8</td>\n      <td>21,634</td>\n    </tr>\n    <tr>\n      <th>235</th>\n      <td>9</td>\n      <td>21,646</td>\n    </tr>\n    <tr>\n      <th>236</th>\n      <td>10</td>\n      <td>21,681</td>\n    </tr>\n    <tr>\n      <th>237</th>\n      <td>11</td>\n      <td>21,686</td>\n    </tr>\n    <tr>\n      <th>238</th>\n      <td>12</td>\n      <td>21,499</td>\n    </tr>\n  </tbody>\n</table>\n</div>"
     },
     "metadata": {},
     "execution_count": 39
    }
   ],
   "source": [
    "JB_emp19 = JB_emp.loc[JB_emp[\"Year\"] == 2019]\n",
    "JB_emp19 = JB_emp19[[\"Month\", \"Grand Total\"]]\n",
    "JB_emp19\n",
    "JB_emp19 = JB_emp19.rename(columns={\"Grand Total\": \"JB_emp_19\"})\n",
    "JB_emp19"
   ]
  },
  {
   "cell_type": "code",
   "execution_count": 38,
   "metadata": {},
   "outputs": [
    {
     "output_type": "execute_result",
     "data": {
      "text/plain": [
       "     Month JB_emp_20\n",
       "239      1    21,598\n",
       "240      2    21,721\n",
       "241      3    21,546\n",
       "242      4    21,534\n",
       "243      5    21,625\n",
       "244      6    21,556\n",
       "245      7    21,417\n",
       "246      8    20,907\n",
       "247      9    19,648\n",
       "248     10    19,248\n",
       "249     11    19,114"
      ],
      "text/html": "<div>\n<style scoped>\n    .dataframe tbody tr th:only-of-type {\n        vertical-align: middle;\n    }\n\n    .dataframe tbody tr th {\n        vertical-align: top;\n    }\n\n    .dataframe thead th {\n        text-align: right;\n    }\n</style>\n<table border=\"1\" class=\"dataframe\">\n  <thead>\n    <tr style=\"text-align: right;\">\n      <th></th>\n      <th>Month</th>\n      <th>JB_emp_20</th>\n    </tr>\n  </thead>\n  <tbody>\n    <tr>\n      <th>239</th>\n      <td>1</td>\n      <td>21,598</td>\n    </tr>\n    <tr>\n      <th>240</th>\n      <td>2</td>\n      <td>21,721</td>\n    </tr>\n    <tr>\n      <th>241</th>\n      <td>3</td>\n      <td>21,546</td>\n    </tr>\n    <tr>\n      <th>242</th>\n      <td>4</td>\n      <td>21,534</td>\n    </tr>\n    <tr>\n      <th>243</th>\n      <td>5</td>\n      <td>21,625</td>\n    </tr>\n    <tr>\n      <th>244</th>\n      <td>6</td>\n      <td>21,556</td>\n    </tr>\n    <tr>\n      <th>245</th>\n      <td>7</td>\n      <td>21,417</td>\n    </tr>\n    <tr>\n      <th>246</th>\n      <td>8</td>\n      <td>20,907</td>\n    </tr>\n    <tr>\n      <th>247</th>\n      <td>9</td>\n      <td>19,648</td>\n    </tr>\n    <tr>\n      <th>248</th>\n      <td>10</td>\n      <td>19,248</td>\n    </tr>\n    <tr>\n      <th>249</th>\n      <td>11</td>\n      <td>19,114</td>\n    </tr>\n  </tbody>\n</table>\n</div>"
     },
     "metadata": {},
     "execution_count": 38
    }
   ],
   "source": [
    "JB_emp20 = JB_emp.loc[JB_emp[\"Year\"] == 2020]\n",
    "JB_emp20 = JB_emp20[[\"Month\", \"Grand Total\"]]\n",
    "JB_emp20\n",
    "JB_emp20 = JB_emp20.rename(columns={\"Grand Total\": \"JB_emp_20\"})\n",
    "JB_emp20"
   ]
  },
  {
   "cell_type": "code",
   "execution_count": 40,
   "metadata": {},
   "outputs": [
    {
     "output_type": "execute_result",
     "data": {
      "text/plain": [
       "    Month JB_emp_19 JB_emp_20\n",
       "0       1    21,206    21,598\n",
       "1       2    21,333    21,721\n",
       "2       3    21,484    21,546\n",
       "3       4    21,604    21,534\n",
       "4       5    21,646    21,625\n",
       "5       6    21,741    21,556\n",
       "6       7    21,671    21,417\n",
       "7       8    21,634    20,907\n",
       "8       9    21,646    19,648\n",
       "9      10    21,681    19,248\n",
       "10     11    21,686    19,114\n",
       "11     12    21,499       NaN"
      ],
      "text/html": "<div>\n<style scoped>\n    .dataframe tbody tr th:only-of-type {\n        vertical-align: middle;\n    }\n\n    .dataframe tbody tr th {\n        vertical-align: top;\n    }\n\n    .dataframe thead th {\n        text-align: right;\n    }\n</style>\n<table border=\"1\" class=\"dataframe\">\n  <thead>\n    <tr style=\"text-align: right;\">\n      <th></th>\n      <th>Month</th>\n      <th>JB_emp_19</th>\n      <th>JB_emp_20</th>\n    </tr>\n  </thead>\n  <tbody>\n    <tr>\n      <th>0</th>\n      <td>1</td>\n      <td>21,206</td>\n      <td>21,598</td>\n    </tr>\n    <tr>\n      <th>1</th>\n      <td>2</td>\n      <td>21,333</td>\n      <td>21,721</td>\n    </tr>\n    <tr>\n      <th>2</th>\n      <td>3</td>\n      <td>21,484</td>\n      <td>21,546</td>\n    </tr>\n    <tr>\n      <th>3</th>\n      <td>4</td>\n      <td>21,604</td>\n      <td>21,534</td>\n    </tr>\n    <tr>\n      <th>4</th>\n      <td>5</td>\n      <td>21,646</td>\n      <td>21,625</td>\n    </tr>\n    <tr>\n      <th>5</th>\n      <td>6</td>\n      <td>21,741</td>\n      <td>21,556</td>\n    </tr>\n    <tr>\n      <th>6</th>\n      <td>7</td>\n      <td>21,671</td>\n      <td>21,417</td>\n    </tr>\n    <tr>\n      <th>7</th>\n      <td>8</td>\n      <td>21,634</td>\n      <td>20,907</td>\n    </tr>\n    <tr>\n      <th>8</th>\n      <td>9</td>\n      <td>21,646</td>\n      <td>19,648</td>\n    </tr>\n    <tr>\n      <th>9</th>\n      <td>10</td>\n      <td>21,681</td>\n      <td>19,248</td>\n    </tr>\n    <tr>\n      <th>10</th>\n      <td>11</td>\n      <td>21,686</td>\n      <td>19,114</td>\n    </tr>\n    <tr>\n      <th>11</th>\n      <td>12</td>\n      <td>21,499</td>\n      <td>NaN</td>\n    </tr>\n  </tbody>\n</table>\n</div>"
     },
     "metadata": {},
     "execution_count": 40
    }
   ],
   "source": [
    "JB_emp_comb = JB_emp19.merge(JB_emp20, on=\"Month\", how=\"left\")\n",
    "JB_emp_comb"
   ]
  },
  {
   "cell_type": "code",
   "execution_count": 11,
   "metadata": {},
   "outputs": [
    {
     "output_type": "execute_result",
     "data": {
      "text/plain": [
       "     Month  Year Full-time Part-time Grand Total\n",
       "348      1  2019    78,055    10,684      88,739\n",
       "349      2  2019    78,645    10,846      89,491\n",
       "350      3  2019    79,067    10,892      89,959\n",
       "351      4  2019    79,307    10,660      89,967\n",
       "352      5  2019    79,502    10,929      90,431\n",
       "353      6  2019    79,601    11,688      91,289\n",
       "354      7  2019    79,462    11,651      91,113\n",
       "355      8  2019    79,502    11,192      90,694\n",
       "356      9  2019    79,512    10,417      89,929\n",
       "357     10  2019    79,931    10,371      90,302\n",
       "358     11  2019    79,636    10,360      89,996\n",
       "359     12  2019    79,841    10,565      90,406\n",
       "360      1  2020    80,582    10,245      90,827\n",
       "361      2  2020    81,177    10,239      91,416\n",
       "362      3  2020    80,179     9,801      89,980\n",
       "363      4  2020    57,498     4,512      62,010\n",
       "364      5  2020    47,581     3,403      50,984\n",
       "365      6  2020    47,877     3,591      51,468\n",
       "366      7  2020    56,513     5,563      62,076\n",
       "367      8  2020    57,630     5,716      63,346\n",
       "368      9  2020    55,767     5,743      61,510\n",
       "369     10  2020    55,384     5,845      61,229\n",
       "370     11  2020    56,393     5,885      62,278"
      ],
      "text/html": "<div>\n<style scoped>\n    .dataframe tbody tr th:only-of-type {\n        vertical-align: middle;\n    }\n\n    .dataframe tbody tr th {\n        vertical-align: top;\n    }\n\n    .dataframe thead th {\n        text-align: right;\n    }\n</style>\n<table border=\"1\" class=\"dataframe\">\n  <thead>\n    <tr style=\"text-align: right;\">\n      <th></th>\n      <th>Month</th>\n      <th>Year</th>\n      <th>Full-time</th>\n      <th>Part-time</th>\n      <th>Grand Total</th>\n    </tr>\n  </thead>\n  <tbody>\n    <tr>\n      <th>348</th>\n      <td>1</td>\n      <td>2019</td>\n      <td>78,055</td>\n      <td>10,684</td>\n      <td>88,739</td>\n    </tr>\n    <tr>\n      <th>349</th>\n      <td>2</td>\n      <td>2019</td>\n      <td>78,645</td>\n      <td>10,846</td>\n      <td>89,491</td>\n    </tr>\n    <tr>\n      <th>350</th>\n      <td>3</td>\n      <td>2019</td>\n      <td>79,067</td>\n      <td>10,892</td>\n      <td>89,959</td>\n    </tr>\n    <tr>\n      <th>351</th>\n      <td>4</td>\n      <td>2019</td>\n      <td>79,307</td>\n      <td>10,660</td>\n      <td>89,967</td>\n    </tr>\n    <tr>\n      <th>352</th>\n      <td>5</td>\n      <td>2019</td>\n      <td>79,502</td>\n      <td>10,929</td>\n      <td>90,431</td>\n    </tr>\n    <tr>\n      <th>353</th>\n      <td>6</td>\n      <td>2019</td>\n      <td>79,601</td>\n      <td>11,688</td>\n      <td>91,289</td>\n    </tr>\n    <tr>\n      <th>354</th>\n      <td>7</td>\n      <td>2019</td>\n      <td>79,462</td>\n      <td>11,651</td>\n      <td>91,113</td>\n    </tr>\n    <tr>\n      <th>355</th>\n      <td>8</td>\n      <td>2019</td>\n      <td>79,502</td>\n      <td>11,192</td>\n      <td>90,694</td>\n    </tr>\n    <tr>\n      <th>356</th>\n      <td>9</td>\n      <td>2019</td>\n      <td>79,512</td>\n      <td>10,417</td>\n      <td>89,929</td>\n    </tr>\n    <tr>\n      <th>357</th>\n      <td>10</td>\n      <td>2019</td>\n      <td>79,931</td>\n      <td>10,371</td>\n      <td>90,302</td>\n    </tr>\n    <tr>\n      <th>358</th>\n      <td>11</td>\n      <td>2019</td>\n      <td>79,636</td>\n      <td>10,360</td>\n      <td>89,996</td>\n    </tr>\n    <tr>\n      <th>359</th>\n      <td>12</td>\n      <td>2019</td>\n      <td>79,841</td>\n      <td>10,565</td>\n      <td>90,406</td>\n    </tr>\n    <tr>\n      <th>360</th>\n      <td>1</td>\n      <td>2020</td>\n      <td>80,582</td>\n      <td>10,245</td>\n      <td>90,827</td>\n    </tr>\n    <tr>\n      <th>361</th>\n      <td>2</td>\n      <td>2020</td>\n      <td>81,177</td>\n      <td>10,239</td>\n      <td>91,416</td>\n    </tr>\n    <tr>\n      <th>362</th>\n      <td>3</td>\n      <td>2020</td>\n      <td>80,179</td>\n      <td>9,801</td>\n      <td>89,980</td>\n    </tr>\n    <tr>\n      <th>363</th>\n      <td>4</td>\n      <td>2020</td>\n      <td>57,498</td>\n      <td>4,512</td>\n      <td>62,010</td>\n    </tr>\n    <tr>\n      <th>364</th>\n      <td>5</td>\n      <td>2020</td>\n      <td>47,581</td>\n      <td>3,403</td>\n      <td>50,984</td>\n    </tr>\n    <tr>\n      <th>365</th>\n      <td>6</td>\n      <td>2020</td>\n      <td>47,877</td>\n      <td>3,591</td>\n      <td>51,468</td>\n    </tr>\n    <tr>\n      <th>366</th>\n      <td>7</td>\n      <td>2020</td>\n      <td>56,513</td>\n      <td>5,563</td>\n      <td>62,076</td>\n    </tr>\n    <tr>\n      <th>367</th>\n      <td>8</td>\n      <td>2020</td>\n      <td>57,630</td>\n      <td>5,716</td>\n      <td>63,346</td>\n    </tr>\n    <tr>\n      <th>368</th>\n      <td>9</td>\n      <td>2020</td>\n      <td>55,767</td>\n      <td>5,743</td>\n      <td>61,510</td>\n    </tr>\n    <tr>\n      <th>369</th>\n      <td>10</td>\n      <td>2020</td>\n      <td>55,384</td>\n      <td>5,845</td>\n      <td>61,229</td>\n    </tr>\n    <tr>\n      <th>370</th>\n      <td>11</td>\n      <td>2020</td>\n      <td>56,393</td>\n      <td>5,885</td>\n      <td>62,278</td>\n    </tr>\n  </tbody>\n</table>\n</div>"
     },
     "metadata": {},
     "execution_count": 11
    }
   ],
   "source": [
    "DA_emp = delta_emp.loc[delta_emp[\"Year\"] > 2018]\n",
    "DA_emp"
   ]
  },
  {
   "cell_type": "code",
   "execution_count": 29,
   "metadata": {},
   "outputs": [
    {
     "output_type": "execute_result",
     "data": {
      "text/plain": [
       "     Month DA_emp_19\n",
       "348      1    88,739\n",
       "349      2    89,491\n",
       "350      3    89,959\n",
       "351      4    89,967\n",
       "352      5    90,431\n",
       "353      6    91,289\n",
       "354      7    91,113\n",
       "355      8    90,694\n",
       "356      9    89,929\n",
       "357     10    90,302\n",
       "358     11    89,996\n",
       "359     12    90,406"
      ],
      "text/html": "<div>\n<style scoped>\n    .dataframe tbody tr th:only-of-type {\n        vertical-align: middle;\n    }\n\n    .dataframe tbody tr th {\n        vertical-align: top;\n    }\n\n    .dataframe thead th {\n        text-align: right;\n    }\n</style>\n<table border=\"1\" class=\"dataframe\">\n  <thead>\n    <tr style=\"text-align: right;\">\n      <th></th>\n      <th>Month</th>\n      <th>DA_emp_19</th>\n    </tr>\n  </thead>\n  <tbody>\n    <tr>\n      <th>348</th>\n      <td>1</td>\n      <td>88,739</td>\n    </tr>\n    <tr>\n      <th>349</th>\n      <td>2</td>\n      <td>89,491</td>\n    </tr>\n    <tr>\n      <th>350</th>\n      <td>3</td>\n      <td>89,959</td>\n    </tr>\n    <tr>\n      <th>351</th>\n      <td>4</td>\n      <td>89,967</td>\n    </tr>\n    <tr>\n      <th>352</th>\n      <td>5</td>\n      <td>90,431</td>\n    </tr>\n    <tr>\n      <th>353</th>\n      <td>6</td>\n      <td>91,289</td>\n    </tr>\n    <tr>\n      <th>354</th>\n      <td>7</td>\n      <td>91,113</td>\n    </tr>\n    <tr>\n      <th>355</th>\n      <td>8</td>\n      <td>90,694</td>\n    </tr>\n    <tr>\n      <th>356</th>\n      <td>9</td>\n      <td>89,929</td>\n    </tr>\n    <tr>\n      <th>357</th>\n      <td>10</td>\n      <td>90,302</td>\n    </tr>\n    <tr>\n      <th>358</th>\n      <td>11</td>\n      <td>89,996</td>\n    </tr>\n    <tr>\n      <th>359</th>\n      <td>12</td>\n      <td>90,406</td>\n    </tr>\n  </tbody>\n</table>\n</div>"
     },
     "metadata": {},
     "execution_count": 29
    }
   ],
   "source": [
    "DA_emp19 = delta_emp.loc[delta_emp[\"Year\"] == 2019]\n",
    "DA_emp19\n",
    "DA_emp19 = DA_emp19[[\"Month\", \"Grand Total\"]]\n",
    "DA_emp19 = DA_emp19.rename(columns={\"Grand Total\": \"DA_emp_19\"})\n",
    "DA_emp19"
   ]
  },
  {
   "cell_type": "code",
   "execution_count": 28,
   "metadata": {},
   "outputs": [
    {
     "output_type": "execute_result",
     "data": {
      "text/plain": [
       "     Month DA_emp_20\n",
       "360      1    90,827\n",
       "361      2    91,416\n",
       "362      3    89,980\n",
       "363      4    62,010\n",
       "364      5    50,984\n",
       "365      6    51,468\n",
       "366      7    62,076\n",
       "367      8    63,346\n",
       "368      9    61,510\n",
       "369     10    61,229\n",
       "370     11    62,278"
      ],
      "text/html": "<div>\n<style scoped>\n    .dataframe tbody tr th:only-of-type {\n        vertical-align: middle;\n    }\n\n    .dataframe tbody tr th {\n        vertical-align: top;\n    }\n\n    .dataframe thead th {\n        text-align: right;\n    }\n</style>\n<table border=\"1\" class=\"dataframe\">\n  <thead>\n    <tr style=\"text-align: right;\">\n      <th></th>\n      <th>Month</th>\n      <th>DA_emp_20</th>\n    </tr>\n  </thead>\n  <tbody>\n    <tr>\n      <th>360</th>\n      <td>1</td>\n      <td>90,827</td>\n    </tr>\n    <tr>\n      <th>361</th>\n      <td>2</td>\n      <td>91,416</td>\n    </tr>\n    <tr>\n      <th>362</th>\n      <td>3</td>\n      <td>89,980</td>\n    </tr>\n    <tr>\n      <th>363</th>\n      <td>4</td>\n      <td>62,010</td>\n    </tr>\n    <tr>\n      <th>364</th>\n      <td>5</td>\n      <td>50,984</td>\n    </tr>\n    <tr>\n      <th>365</th>\n      <td>6</td>\n      <td>51,468</td>\n    </tr>\n    <tr>\n      <th>366</th>\n      <td>7</td>\n      <td>62,076</td>\n    </tr>\n    <tr>\n      <th>367</th>\n      <td>8</td>\n      <td>63,346</td>\n    </tr>\n    <tr>\n      <th>368</th>\n      <td>9</td>\n      <td>61,510</td>\n    </tr>\n    <tr>\n      <th>369</th>\n      <td>10</td>\n      <td>61,229</td>\n    </tr>\n    <tr>\n      <th>370</th>\n      <td>11</td>\n      <td>62,278</td>\n    </tr>\n  </tbody>\n</table>\n</div>"
     },
     "metadata": {},
     "execution_count": 28
    }
   ],
   "source": [
    "DA_emp20 = delta_emp.loc[delta_emp[\"Year\"] == 2020]\n",
    "DA_emp20\n",
    "DA_emp20 = DA_emp20[[\"Month\", \"Grand Total\"]]\n",
    "DA_emp20 = DA_emp20.rename(columns={\"Grand Total\": \"DA_emp_20\"})\n",
    "DA_emp20"
   ]
  },
  {
   "cell_type": "code",
   "execution_count": 30,
   "metadata": {},
   "outputs": [
    {
     "output_type": "execute_result",
     "data": {
      "text/plain": [
       "    Month DA_emp_19 DA_emp_20\n",
       "0       1    88,739    90,827\n",
       "1       2    89,491    91,416\n",
       "2       3    89,959    89,980\n",
       "3       4    89,967    62,010\n",
       "4       5    90,431    50,984\n",
       "5       6    91,289    51,468\n",
       "6       7    91,113    62,076\n",
       "7       8    90,694    63,346\n",
       "8       9    89,929    61,510\n",
       "9      10    90,302    61,229\n",
       "10     11    89,996    62,278\n",
       "11     12    90,406       NaN"
      ],
      "text/html": "<div>\n<style scoped>\n    .dataframe tbody tr th:only-of-type {\n        vertical-align: middle;\n    }\n\n    .dataframe tbody tr th {\n        vertical-align: top;\n    }\n\n    .dataframe thead th {\n        text-align: right;\n    }\n</style>\n<table border=\"1\" class=\"dataframe\">\n  <thead>\n    <tr style=\"text-align: right;\">\n      <th></th>\n      <th>Month</th>\n      <th>DA_emp_19</th>\n      <th>DA_emp_20</th>\n    </tr>\n  </thead>\n  <tbody>\n    <tr>\n      <th>0</th>\n      <td>1</td>\n      <td>88,739</td>\n      <td>90,827</td>\n    </tr>\n    <tr>\n      <th>1</th>\n      <td>2</td>\n      <td>89,491</td>\n      <td>91,416</td>\n    </tr>\n    <tr>\n      <th>2</th>\n      <td>3</td>\n      <td>89,959</td>\n      <td>89,980</td>\n    </tr>\n    <tr>\n      <th>3</th>\n      <td>4</td>\n      <td>89,967</td>\n      <td>62,010</td>\n    </tr>\n    <tr>\n      <th>4</th>\n      <td>5</td>\n      <td>90,431</td>\n      <td>50,984</td>\n    </tr>\n    <tr>\n      <th>5</th>\n      <td>6</td>\n      <td>91,289</td>\n      <td>51,468</td>\n    </tr>\n    <tr>\n      <th>6</th>\n      <td>7</td>\n      <td>91,113</td>\n      <td>62,076</td>\n    </tr>\n    <tr>\n      <th>7</th>\n      <td>8</td>\n      <td>90,694</td>\n      <td>63,346</td>\n    </tr>\n    <tr>\n      <th>8</th>\n      <td>9</td>\n      <td>89,929</td>\n      <td>61,510</td>\n    </tr>\n    <tr>\n      <th>9</th>\n      <td>10</td>\n      <td>90,302</td>\n      <td>61,229</td>\n    </tr>\n    <tr>\n      <th>10</th>\n      <td>11</td>\n      <td>89,996</td>\n      <td>62,278</td>\n    </tr>\n    <tr>\n      <th>11</th>\n      <td>12</td>\n      <td>90,406</td>\n      <td>NaN</td>\n    </tr>\n  </tbody>\n</table>\n</div>"
     },
     "metadata": {},
     "execution_count": 30
    }
   ],
   "source": [
    "DA_emp_comb = DA_emp19.merge(DA_emp20, on=\"Month\", how=\"left\")\n",
    "DA_emp_comb"
   ]
  },
  {
   "cell_type": "code",
   "execution_count": 13,
   "metadata": {},
   "outputs": [],
   "source": [
    "AA_emp = american_emp.loc[american_emp[\"Year\"] > 2018]\n",
    "AA_emp19 = american_emp.loc[american_emp[\"Year\"] == 2019]\n"
   ]
  },
  {
   "cell_type": "code",
   "execution_count": 24,
   "metadata": {},
   "outputs": [
    {
     "output_type": "execute_result",
     "data": {
      "text/plain": [
       "     Month AA_emp_19\n",
       "348      1   106,799\n",
       "349      2   106,701\n",
       "350      3   107,272\n",
       "351      4   107,531\n",
       "352      5   107,773\n",
       "353      6   108,107\n",
       "354      7   107,818\n",
       "355      8   106,976\n",
       "356      9   106,981\n",
       "357     10   107,430\n",
       "358     11   107,124\n",
       "359     12   107,381"
      ],
      "text/html": "<div>\n<style scoped>\n    .dataframe tbody tr th:only-of-type {\n        vertical-align: middle;\n    }\n\n    .dataframe tbody tr th {\n        vertical-align: top;\n    }\n\n    .dataframe thead th {\n        text-align: right;\n    }\n</style>\n<table border=\"1\" class=\"dataframe\">\n  <thead>\n    <tr style=\"text-align: right;\">\n      <th></th>\n      <th>Month</th>\n      <th>AA_emp_19</th>\n    </tr>\n  </thead>\n  <tbody>\n    <tr>\n      <th>348</th>\n      <td>1</td>\n      <td>106,799</td>\n    </tr>\n    <tr>\n      <th>349</th>\n      <td>2</td>\n      <td>106,701</td>\n    </tr>\n    <tr>\n      <th>350</th>\n      <td>3</td>\n      <td>107,272</td>\n    </tr>\n    <tr>\n      <th>351</th>\n      <td>4</td>\n      <td>107,531</td>\n    </tr>\n    <tr>\n      <th>352</th>\n      <td>5</td>\n      <td>107,773</td>\n    </tr>\n    <tr>\n      <th>353</th>\n      <td>6</td>\n      <td>108,107</td>\n    </tr>\n    <tr>\n      <th>354</th>\n      <td>7</td>\n      <td>107,818</td>\n    </tr>\n    <tr>\n      <th>355</th>\n      <td>8</td>\n      <td>106,976</td>\n    </tr>\n    <tr>\n      <th>356</th>\n      <td>9</td>\n      <td>106,981</td>\n    </tr>\n    <tr>\n      <th>357</th>\n      <td>10</td>\n      <td>107,430</td>\n    </tr>\n    <tr>\n      <th>358</th>\n      <td>11</td>\n      <td>107,124</td>\n    </tr>\n    <tr>\n      <th>359</th>\n      <td>12</td>\n      <td>107,381</td>\n    </tr>\n  </tbody>\n</table>\n</div>"
     },
     "metadata": {},
     "execution_count": 24
    }
   ],
   "source": [
    "AA_emp19 = AA_emp19[[\"Month\", \"Grand Total\"]]\n",
    "AA_emp19\n",
    "AA_emp19 = AA_emp19.rename(columns={\"Grand Total\": \"AA_emp_19\"})\n",
    "AA_emp19"
   ]
  },
  {
   "cell_type": "code",
   "execution_count": 23,
   "metadata": {},
   "outputs": [
    {
     "output_type": "execute_result",
     "data": {
      "text/plain": [
       "     Month AA_emp_20\n",
       "360      1   107,452\n",
       "361      2   107,905\n",
       "362      3   109,108\n",
       "363      4   108,579\n",
       "364      5   107,346\n",
       "365      6   107,252\n",
       "366      7   107,028\n",
       "367      8   106,544\n",
       "368      9   106,170\n",
       "369     10    90,846\n",
       "370     11    90,374"
      ],
      "text/html": "<div>\n<style scoped>\n    .dataframe tbody tr th:only-of-type {\n        vertical-align: middle;\n    }\n\n    .dataframe tbody tr th {\n        vertical-align: top;\n    }\n\n    .dataframe thead th {\n        text-align: right;\n    }\n</style>\n<table border=\"1\" class=\"dataframe\">\n  <thead>\n    <tr style=\"text-align: right;\">\n      <th></th>\n      <th>Month</th>\n      <th>AA_emp_20</th>\n    </tr>\n  </thead>\n  <tbody>\n    <tr>\n      <th>360</th>\n      <td>1</td>\n      <td>107,452</td>\n    </tr>\n    <tr>\n      <th>361</th>\n      <td>2</td>\n      <td>107,905</td>\n    </tr>\n    <tr>\n      <th>362</th>\n      <td>3</td>\n      <td>109,108</td>\n    </tr>\n    <tr>\n      <th>363</th>\n      <td>4</td>\n      <td>108,579</td>\n    </tr>\n    <tr>\n      <th>364</th>\n      <td>5</td>\n      <td>107,346</td>\n    </tr>\n    <tr>\n      <th>365</th>\n      <td>6</td>\n      <td>107,252</td>\n    </tr>\n    <tr>\n      <th>366</th>\n      <td>7</td>\n      <td>107,028</td>\n    </tr>\n    <tr>\n      <th>367</th>\n      <td>8</td>\n      <td>106,544</td>\n    </tr>\n    <tr>\n      <th>368</th>\n      <td>9</td>\n      <td>106,170</td>\n    </tr>\n    <tr>\n      <th>369</th>\n      <td>10</td>\n      <td>90,846</td>\n    </tr>\n    <tr>\n      <th>370</th>\n      <td>11</td>\n      <td>90,374</td>\n    </tr>\n  </tbody>\n</table>\n</div>"
     },
     "metadata": {},
     "execution_count": 23
    }
   ],
   "source": [
    "AA_emp20 = american_emp.loc[american_emp[\"Year\"]  == 2020]\n",
    "AA_emp20 = AA_emp20[[\"Month\", \"Grand Total\"]]\n",
    "AA_emp20 = AA_emp20.rename(columns={\"Grand Total\": \"AA_emp_20\"})\n",
    "AA_emp20"
   ]
  },
  {
   "cell_type": "code",
   "execution_count": 27,
   "metadata": {},
   "outputs": [
    {
     "output_type": "execute_result",
     "data": {
      "text/plain": [
       "    Month AA_emp_19 AA_emp_20\n",
       "0       1   106,799   107,452\n",
       "1       2   106,701   107,905\n",
       "2       3   107,272   109,108\n",
       "3       4   107,531   108,579\n",
       "4       5   107,773   107,346\n",
       "5       6   108,107   107,252\n",
       "6       7   107,818   107,028\n",
       "7       8   106,976   106,544\n",
       "8       9   106,981   106,170\n",
       "9      10   107,430    90,846\n",
       "10     11   107,124    90,374\n",
       "11     12   107,381       NaN"
      ],
      "text/html": "<div>\n<style scoped>\n    .dataframe tbody tr th:only-of-type {\n        vertical-align: middle;\n    }\n\n    .dataframe tbody tr th {\n        vertical-align: top;\n    }\n\n    .dataframe thead th {\n        text-align: right;\n    }\n</style>\n<table border=\"1\" class=\"dataframe\">\n  <thead>\n    <tr style=\"text-align: right;\">\n      <th></th>\n      <th>Month</th>\n      <th>AA_emp_19</th>\n      <th>AA_emp_20</th>\n    </tr>\n  </thead>\n  <tbody>\n    <tr>\n      <th>0</th>\n      <td>1</td>\n      <td>106,799</td>\n      <td>107,452</td>\n    </tr>\n    <tr>\n      <th>1</th>\n      <td>2</td>\n      <td>106,701</td>\n      <td>107,905</td>\n    </tr>\n    <tr>\n      <th>2</th>\n      <td>3</td>\n      <td>107,272</td>\n      <td>109,108</td>\n    </tr>\n    <tr>\n      <th>3</th>\n      <td>4</td>\n      <td>107,531</td>\n      <td>108,579</td>\n    </tr>\n    <tr>\n      <th>4</th>\n      <td>5</td>\n      <td>107,773</td>\n      <td>107,346</td>\n    </tr>\n    <tr>\n      <th>5</th>\n      <td>6</td>\n      <td>108,107</td>\n      <td>107,252</td>\n    </tr>\n    <tr>\n      <th>6</th>\n      <td>7</td>\n      <td>107,818</td>\n      <td>107,028</td>\n    </tr>\n    <tr>\n      <th>7</th>\n      <td>8</td>\n      <td>106,976</td>\n      <td>106,544</td>\n    </tr>\n    <tr>\n      <th>8</th>\n      <td>9</td>\n      <td>106,981</td>\n      <td>106,170</td>\n    </tr>\n    <tr>\n      <th>9</th>\n      <td>10</td>\n      <td>107,430</td>\n      <td>90,846</td>\n    </tr>\n    <tr>\n      <th>10</th>\n      <td>11</td>\n      <td>107,124</td>\n      <td>90,374</td>\n    </tr>\n    <tr>\n      <th>11</th>\n      <td>12</td>\n      <td>107,381</td>\n      <td>NaN</td>\n    </tr>\n  </tbody>\n</table>\n</div>"
     },
     "metadata": {},
     "execution_count": 27
    }
   ],
   "source": [
    "AA_emp_comb = AA_emp19.merge(AA_emp20, on=\"Month\", how=\"left\")\n",
    "AA_emp_comb"
   ]
  },
  {
   "cell_type": "code",
   "execution_count": 44,
   "metadata": {},
   "outputs": [
    {
     "output_type": "execute_result",
     "data": {
      "text/plain": [
       "    Month AA_emp_20 DA_emp_20 JB_emp_20 SW_emp_20 UA_emp_20\n",
       "0       1   107,452    90,827    21,598    62,216    92,037\n",
       "1       2   107,905    91,416    21,721    62,436    92,249\n",
       "2       3   109,108    89,980    21,546    62,081    91,563\n",
       "3       4   108,579    62,010    21,534    62,191    87,369\n",
       "4       5   107,346    50,984    21,625    62,345    83,723\n",
       "5       6   107,252    51,468    21,556    62,288    82,228\n",
       "6       7   107,028    62,076    21,417    62,044    78,809\n",
       "7       8   106,544    63,346    20,907    61,688    77,901\n",
       "8       9   106,170    61,510    19,648    59,028    77,221\n",
       "9      10    90,846    61,229    19,248    58,134    62,320\n",
       "10     11    90,374    62,278    19,114    57,954    62,282"
      ],
      "text/html": "<div>\n<style scoped>\n    .dataframe tbody tr th:only-of-type {\n        vertical-align: middle;\n    }\n\n    .dataframe tbody tr th {\n        vertical-align: top;\n    }\n\n    .dataframe thead th {\n        text-align: right;\n    }\n</style>\n<table border=\"1\" class=\"dataframe\">\n  <thead>\n    <tr style=\"text-align: right;\">\n      <th></th>\n      <th>Month</th>\n      <th>AA_emp_20</th>\n      <th>DA_emp_20</th>\n      <th>JB_emp_20</th>\n      <th>SW_emp_20</th>\n      <th>UA_emp_20</th>\n    </tr>\n  </thead>\n  <tbody>\n    <tr>\n      <th>0</th>\n      <td>1</td>\n      <td>107,452</td>\n      <td>90,827</td>\n      <td>21,598</td>\n      <td>62,216</td>\n      <td>92,037</td>\n    </tr>\n    <tr>\n      <th>1</th>\n      <td>2</td>\n      <td>107,905</td>\n      <td>91,416</td>\n      <td>21,721</td>\n      <td>62,436</td>\n      <td>92,249</td>\n    </tr>\n    <tr>\n      <th>2</th>\n      <td>3</td>\n      <td>109,108</td>\n      <td>89,980</td>\n      <td>21,546</td>\n      <td>62,081</td>\n      <td>91,563</td>\n    </tr>\n    <tr>\n      <th>3</th>\n      <td>4</td>\n      <td>108,579</td>\n      <td>62,010</td>\n      <td>21,534</td>\n      <td>62,191</td>\n      <td>87,369</td>\n    </tr>\n    <tr>\n      <th>4</th>\n      <td>5</td>\n      <td>107,346</td>\n      <td>50,984</td>\n      <td>21,625</td>\n      <td>62,345</td>\n      <td>83,723</td>\n    </tr>\n    <tr>\n      <th>5</th>\n      <td>6</td>\n      <td>107,252</td>\n      <td>51,468</td>\n      <td>21,556</td>\n      <td>62,288</td>\n      <td>82,228</td>\n    </tr>\n    <tr>\n      <th>6</th>\n      <td>7</td>\n      <td>107,028</td>\n      <td>62,076</td>\n      <td>21,417</td>\n      <td>62,044</td>\n      <td>78,809</td>\n    </tr>\n    <tr>\n      <th>7</th>\n      <td>8</td>\n      <td>106,544</td>\n      <td>63,346</td>\n      <td>20,907</td>\n      <td>61,688</td>\n      <td>77,901</td>\n    </tr>\n    <tr>\n      <th>8</th>\n      <td>9</td>\n      <td>106,170</td>\n      <td>61,510</td>\n      <td>19,648</td>\n      <td>59,028</td>\n      <td>77,221</td>\n    </tr>\n    <tr>\n      <th>9</th>\n      <td>10</td>\n      <td>90,846</td>\n      <td>61,229</td>\n      <td>19,248</td>\n      <td>58,134</td>\n      <td>62,320</td>\n    </tr>\n    <tr>\n      <th>10</th>\n      <td>11</td>\n      <td>90,374</td>\n      <td>62,278</td>\n      <td>19,114</td>\n      <td>57,954</td>\n      <td>62,282</td>\n    </tr>\n  </tbody>\n</table>\n</div>"
     },
     "metadata": {},
     "execution_count": 44
    }
   ],
   "source": [
    "emp_2020_comb = AA_emp20.merge(DA_emp20, on=\"Month\", how=\"left\")\n",
    "emp_2020_comb = emp_2020_comb.merge(JB_emp20, on=\"Month\", how=\"left\")\n",
    "emp_2020_comb = emp_2020_comb.merge(SW_emp20, on=\"Month\", how=\"left\")\n",
    "emp_2020_comb = emp_2020_comb.merge(UA_emp20, on=\"Month\", how=\"left\")\n",
    "emp_2020_comb"
   ]
  },
  {
   "cell_type": "code",
   "execution_count": 58,
   "metadata": {},
   "outputs": [
    {
     "output_type": "execute_result",
     "data": {
      "text/plain": [
       "    Month AA_emp_20 DA_emp_20 JB_emp_20 SW_emp_20 UA_emp_20\n",
       "0       1   107,452    90,827    21,598    62,216    92,037\n",
       "1       2   107,905    91,416    21,721    62,436    92,249\n",
       "2       3   109,108    89,980    21,546    62,081    91,563\n",
       "3       4   108,579    62,010    21,534    62,191    87,369\n",
       "4       5   107,346    50,984    21,625    62,345    83,723\n",
       "5       6   107,252    51,468    21,556    62,288    82,228\n",
       "6       7   107,028    62,076    21,417    62,044    78,809\n",
       "7       8   106,544    63,346    20,907    61,688    77,901\n",
       "8       9   106,170    61,510    19,648    59,028    77,221\n",
       "9      10    90,846    61,229    19,248    58,134    62,320\n",
       "10     11    90,374    62,278    19,114    57,954    62,282"
      ],
      "text/html": "<div>\n<style scoped>\n    .dataframe tbody tr th:only-of-type {\n        vertical-align: middle;\n    }\n\n    .dataframe tbody tr th {\n        vertical-align: top;\n    }\n\n    .dataframe thead th {\n        text-align: right;\n    }\n</style>\n<table border=\"1\" class=\"dataframe\">\n  <thead>\n    <tr style=\"text-align: right;\">\n      <th></th>\n      <th>Month</th>\n      <th>AA_emp_20</th>\n      <th>DA_emp_20</th>\n      <th>JB_emp_20</th>\n      <th>SW_emp_20</th>\n      <th>UA_emp_20</th>\n    </tr>\n  </thead>\n  <tbody>\n    <tr>\n      <th>0</th>\n      <td>1</td>\n      <td>107,452</td>\n      <td>90,827</td>\n      <td>21,598</td>\n      <td>62,216</td>\n      <td>92,037</td>\n    </tr>\n    <tr>\n      <th>1</th>\n      <td>2</td>\n      <td>107,905</td>\n      <td>91,416</td>\n      <td>21,721</td>\n      <td>62,436</td>\n      <td>92,249</td>\n    </tr>\n    <tr>\n      <th>2</th>\n      <td>3</td>\n      <td>109,108</td>\n      <td>89,980</td>\n      <td>21,546</td>\n      <td>62,081</td>\n      <td>91,563</td>\n    </tr>\n    <tr>\n      <th>3</th>\n      <td>4</td>\n      <td>108,579</td>\n      <td>62,010</td>\n      <td>21,534</td>\n      <td>62,191</td>\n      <td>87,369</td>\n    </tr>\n    <tr>\n      <th>4</th>\n      <td>5</td>\n      <td>107,346</td>\n      <td>50,984</td>\n      <td>21,625</td>\n      <td>62,345</td>\n      <td>83,723</td>\n    </tr>\n    <tr>\n      <th>5</th>\n      <td>6</td>\n      <td>107,252</td>\n      <td>51,468</td>\n      <td>21,556</td>\n      <td>62,288</td>\n      <td>82,228</td>\n    </tr>\n    <tr>\n      <th>6</th>\n      <td>7</td>\n      <td>107,028</td>\n      <td>62,076</td>\n      <td>21,417</td>\n      <td>62,044</td>\n      <td>78,809</td>\n    </tr>\n    <tr>\n      <th>7</th>\n      <td>8</td>\n      <td>106,544</td>\n      <td>63,346</td>\n      <td>20,907</td>\n      <td>61,688</td>\n      <td>77,901</td>\n    </tr>\n    <tr>\n      <th>8</th>\n      <td>9</td>\n      <td>106,170</td>\n      <td>61,510</td>\n      <td>19,648</td>\n      <td>59,028</td>\n      <td>77,221</td>\n    </tr>\n    <tr>\n      <th>9</th>\n      <td>10</td>\n      <td>90,846</td>\n      <td>61,229</td>\n      <td>19,248</td>\n      <td>58,134</td>\n      <td>62,320</td>\n    </tr>\n    <tr>\n      <th>10</th>\n      <td>11</td>\n      <td>90,374</td>\n      <td>62,278</td>\n      <td>19,114</td>\n      <td>57,954</td>\n      <td>62,282</td>\n    </tr>\n  </tbody>\n</table>\n</div>"
     },
     "metadata": {},
     "execution_count": 58
    }
   ],
   "source": []
  },
  {
   "cell_type": "code",
   "execution_count": 59,
   "metadata": {},
   "outputs": [
    {
     "output_type": "execute_result",
     "data": {
      "text/plain": [
       "Month         int64\n",
       "AA_emp_20    object\n",
       "DA_emp_20    object\n",
       "JB_emp_20    object\n",
       "SW_emp_20    object\n",
       "UA_emp_20    object\n",
       "dtype: object"
      ]
     },
     "metadata": {},
     "execution_count": 59
    }
   ],
   "source": [
    "final_2020_emp.dtypes"
   ]
  },
  {
   "cell_type": "code",
   "execution_count": 63,
   "metadata": {},
   "outputs": [
    {
     "output_type": "execute_result",
     "data": {
      "text/plain": [
       "Index(['Month', 'AA_emp_20', 'DA_emp_20', 'JB_emp_20', 'SW_emp_20',\n",
       "       'UA_emp_20'],\n",
       "      dtype='object')"
      ]
     },
     "metadata": {},
     "execution_count": 63
    }
   ],
   "source": [
    "final_2020_emp = emp_2020_comb.copy()\n",
    "final_2020_emp.columns"
   ]
  },
  {
   "cell_type": "code",
   "execution_count": 64,
   "metadata": {},
   "outputs": [],
   "source": [
    "final_2020_emp.to_csv('../Data/final_2020_emp.csv', index=False)"
   ]
  },
  {
   "cell_type": "code",
   "execution_count": null,
   "metadata": {},
   "outputs": [],
   "source": []
  }
 ]
}